{
 "cells": [
  {
   "cell_type": "code",
   "execution_count": 17,
   "id": "bcebb118",
   "metadata": {},
   "outputs": [],
   "source": [
    "%load_ext autoreload\n",
    "%autoreload 1\n",
    "%aimport resource_networks\n",
    "\n",
    "from resource_networks import *\n",
    "from ipywidgets import interact, widgets\n",
    "\n",
    "# import matplotlib.pyplot as plt\n",
    "# plt.rcParams[\"figure.figsize\"] = (10, 7)\n",
    "# plt.rcParams[\"axes.grid\"] = True\n",
    "# plt.rcParams[\"font.size\"] = 12\n",
    "# import plotly.graph_objs as go\n",
    "# import plotly.express as px"
   ]
  },
  {
   "cell_type": "code",
   "execution_count": 21,
   "id": "7868fad8",
   "metadata": {},
   "outputs": [],
   "source": [
    "def plot_simulation(G, simulation):\n",
    "    pl = G.plot_with_states(sim)\n",
    "    f = lambda i: pl[i]\n",
    "    interact(f, i=widgets.IntSlider(min=0,max=len(sim)-1,step=1,value=0, description='№ of iteration')) \n",
    "    return None"
   ]
  },
  {
   "cell_type": "code",
   "execution_count": 6,
   "id": "1185f1cf",
   "metadata": {
    "scrolled": false
   },
   "outputs": [],
   "source": [
    "# pl = G2.plot_with_states(sim)\n",
    "# x = pl[0]\n",
    "# print(pl[1].data)"
   ]
  },
  {
   "cell_type": "code",
   "execution_count": 67,
   "id": "ecadc9c7",
   "metadata": {},
   "outputs": [
    {
     "data": {
      "application/vnd.jupyter.widget-view+json": {
       "model_id": "267f9bde63af4857a8d92747204c46b8",
       "version_major": 2,
       "version_minor": 0
      },
      "text/plain": [
       "interactive(children=(IntSlider(value=0, description='№ of iteration', max=39), Output()), _dom_classes=('widg…"
      ]
     },
     "metadata": {},
     "output_type": "display_data"
    }
   ],
   "source": [
    "n = 7\n",
    "G2 = ResourceDiGraph(nx.fast_gnp_random_graph(n, 0.4, directed=True))\n",
    "sim = G2.run_simulation(np.random.randint(2, 12, size=n), 40)\n",
    "plot_simulation(G2, sim)\n",
    "# sim.arr"
   ]
  },
  {
   "cell_type": "code",
   "execution_count": 8,
   "id": "716e0ae7",
   "metadata": {},
   "outputs": [
    {
     "data": {
      "text/plain": [
       "[(1, 2), (3, 4)]"
      ]
     },
     "execution_count": 8,
     "metadata": {},
     "output_type": "execute_result"
    }
   ],
   "source": [
    "list(({1: 2, 3: 4}.items()))"
   ]
  },
  {
   "cell_type": "code",
   "execution_count": 28,
   "id": "c5803f23",
   "metadata": {},
   "outputs": [
    {
     "data": {
      "text/plain": [
       "{0: (122.24, 291.71),\n",
       " 1: (293.85, 154.86),\n",
       " 2: (122.24, 18.0),\n",
       " 3: (241.0, 264.6),\n",
       " 4: (27.0, 93.949),\n",
       " 5: (241.0, 45.106),\n",
       " 6: (27.0, 215.76)}"
      ]
     },
     "execution_count": 28,
     "metadata": {},
     "output_type": "execute_result"
    }
   ],
   "source": [
    "nx.nx_pydot.pydot_layout(G2.G, prog='circo')"
   ]
  },
  {
   "cell_type": "code",
   "execution_count": 29,
   "id": "456fa370",
   "metadata": {},
   "outputs": [],
   "source": [
    "# for v in G2.G[1]:\n",
    "#     print(v)\n",
    "# plot_simulation(G2, sim)\n",
    "# sim.arr"
   ]
  },
  {
   "cell_type": "markdown",
   "id": "c895bb8c",
   "metadata": {},
   "source": [
    "---"
   ]
  },
  {
   "cell_type": "code",
   "execution_count": 212,
   "id": "646c9f05",
   "metadata": {},
   "outputs": [],
   "source": [
    "# # print(nx.nx_pydot.to_pydot(G).create_dot().decode('utf-8'))\n",
    "# G_pd = nx.nx_pydot.to_pydot(G)\n",
    "# # G_pd.set('fontsize', 4)\n",
    "# G_pd.get_attributes()\n",
    "# print(G_pd.create_dot().decode('utf-8'))\n",
    "# # G_pd.create_dot()"
   ]
  },
  {
   "cell_type": "code",
   "execution_count": 75,
   "id": "e825f438",
   "metadata": {},
   "outputs": [
    {
     "data": {
      "image/svg+xml": [
       "<svg xmlns=\"http://www.w3.org/2000/svg\" xmlns:xlink=\"http://www.w3.org/1999/xlink\" width=\"62pt\" height=\"130pt\" viewBox=\"0.00 0.00 62.00 130.00\">\n",
       "<g id=\"graph0\" class=\"graph\" transform=\"scale(1 1) rotate(0) translate(4 126)\">\n",
       "<title>%3</title>\n",
       "<polygon fill=\"white\" stroke=\"transparent\" points=\"-4,4 -4,-126 58,-126 58,4 -4,4\"/>\n",
       "<!-- dsd -->\n",
       "<g id=\"node1\" class=\"node\">\n",
       "<title>dsd</title>\n",
       "<polygon fill=\"none\" stroke=\"black\" points=\"18,-98 18,-115 37,-115 37,-98 18,-98\"/>\n",
       "<text text-anchor=\"start\" x=\"21\" y=\"-104\" font-family=\"Times,serif\" font-size=\"10.00\">10</text>\n",
       "<polygon fill=\"#00cc11\" stroke=\"transparent\" points=\"18,-79 18,-96 37,-96 37,-79 18,-79\"/>\n",
       "<polygon fill=\"none\" stroke=\"black\" points=\"18,-79 18,-96 37,-96 37,-79 18,-79\"/>\n",
       "<text text-anchor=\"start\" x=\"23.5\" y=\"-85\" font-family=\"Times,serif\" font-size=\"10.00\">B</text>\n",
       "<polygon fill=\"none\" stroke=\"black\" points=\"14.5,-76 14.5,-118 39.5,-118 39.5,-76 14.5,-76\"/>\n",
       "</g>\n",
       "<!-- 1 -->\n",
       "<g id=\"node2\" class=\"node\">\n",
       "<title>1</title>\n",
       "<g id=\"a_node2\"><a xlink:title=\"lalalala\">\n",
       "<ellipse fill=\"#f0fff4\" stroke=\"black\" cx=\"27\" cy=\"-12.5\" rx=\"12.5\" ry=\"12.5\"/>\n",
       "<text text-anchor=\"middle\" x=\"27\" y=\"-10\" font-family=\"Times,serif\" font-size=\"10.00\">123</text>\n",
       "</a>\n",
       "</g>\n",
       "</g>\n",
       "<!-- dsd&#45;&gt;1 -->\n",
       "<g id=\"edge1\" class=\"edge\">\n",
       "<title>dsd-&gt;1</title>\n",
       "<path fill=\"none\" stroke=\"black\" stroke-width=\"0.3\" d=\"M27,-71.69C27,-59.06 27,-43.86 27,-32.17\"/>\n",
       "<polygon fill=\"black\" stroke=\"black\" stroke-width=\"0.3\" points=\"29.45,-32.05 27,-25.05 24.55,-32.05 29.45,-32.05\"/>\n",
       "<text text-anchor=\"middle\" x=\"33.5\" y=\"-46\" font-family=\"Times,serif\" font-size=\"10.00\">43</text>\n",
       "</g>\n",
       "</g>\n",
       "</svg>"
      ],
      "text/plain": [
       "<IPython.core.display.SVG object>"
      ]
     },
     "execution_count": 75,
     "metadata": {},
     "output_type": "execute_result"
    }
   ],
   "source": [
    "G = nx.DiGraph()\n",
    "G.add_edge('dsd', 1, weight=2, label='43')\n",
    "\n",
    "G.graph['node'] = {'fontsize': 10}\n",
    "# G.graph['edge'] = {'fontsize': 10}\n",
    "# G.graph['rankdir'] = 'LR'\n",
    "\n",
    "# G.remove_edge(0, 1)\n",
    "# first(G.edges(data=True))[2].get('weight')\n",
    "# G.nodes['dsd']['penwidth'] = 4\n",
    "# G.nodes['dsd']['label'] = \"\"\"<\n",
    "# <TABLE BORDER=\"0\" CELLBORDER=\"1\" CELLSPACING=\"0\">\n",
    "#   <TR><TD ROWSPAN=\"3\" BGCOLOR=\"yellow\">class</TD></TR>\n",
    "#   <TR><TD PORT=\"here\" BGCOLOR=\"lightblue\">qualifier</TD></TR>\n",
    "# </TABLE>>\"\"\"\n",
    "G.nodes['dsd']['shape'] = 'plaintext'\n",
    "G.nodes['dsd']['label'] = f\"\"\"<<table>\n",
    "                          <tr><td>{10}</td></tr>\n",
    "                          <tr><td bgcolor='#00CC11'>B</td></tr>\n",
    "                       </table>>\n",
    "\"\"\"\n",
    "\n",
    "G.nodes[1]['tooltip'] = 'lalalala'\n",
    "\n",
    "G.nodes[1]['shape'] = 'circle'\n",
    "G.nodes[1]['style'] = 'filled'\n",
    "G.nodes[1]['fillcolor'] = '#f0fff4'\n",
    "G.nodes[1]['fixedsize'] = True\n",
    "# G.nodes[1]['fontsize'] = 10\n",
    "G.nodes[1]['width'] = 0.35\n",
    "G.nodes[1]['label'] = 123\n",
    "\n",
    "G.edges['dsd', 1]['penwidth'] = 0.3\n",
    "G.edges['dsd', 1]['arrowsize'] = 0.7\n",
    "G.edges['dsd', 1]['fontsize'] = 10\n",
    "\n",
    "# print(nx.nx_pydot.to_pydot(G).create_dot().decode('utf-8'))\n",
    "SVG(nx.nx_pydot.to_pydot(G).create_svg())"
   ]
  },
  {
   "cell_type": "code",
   "execution_count": 21,
   "id": "4b596554",
   "metadata": {},
   "outputs": [
    {
     "data": {
      "image/svg+xml": [
       "<svg xmlns=\"http://www.w3.org/2000/svg\" xmlns:xlink=\"http://www.w3.org/1999/xlink\" width=\"134pt\" height=\"134pt\" viewBox=\"0.00 0.00 134.00 134.00\">\n",
       "<g id=\"graph0\" class=\"graph\" transform=\"scale(1 1) rotate(0) translate(4 130)\">\n",
       "<title>%3</title>\n",
       "<polygon fill=\"white\" stroke=\"transparent\" points=\"-4,4 -4,-130 130,-130 130,4 -4,4\"/>\n",
       "<!-- dsd -->\n",
       "<g id=\"node1\" class=\"node\">\n",
       "<title>dsd</title>\n",
       "<polygon fill=\"none\" stroke=\"black\" points=\"18,-102 18,-119 37,-119 37,-102 18,-102\"/>\n",
       "<text text-anchor=\"start\" x=\"21\" y=\"-108\" font-family=\"Times,serif\" font-size=\"10.00\">10</text>\n",
       "<polygon fill=\"#00cc11\" stroke=\"transparent\" points=\"18,-83 18,-100 37,-100 37,-83 18,-83\"/>\n",
       "<polygon fill=\"none\" stroke=\"black\" points=\"18,-83 18,-100 37,-100 37,-83 18,-83\"/>\n",
       "<text text-anchor=\"start\" x=\"23.5\" y=\"-89\" font-family=\"Times,serif\" font-size=\"10.00\">B</text>\n",
       "<polygon fill=\"none\" stroke=\"black\" points=\"14.5,-80 14.5,-122 39.5,-122 39.5,-80 14.5,-80\"/>\n",
       "</g>\n",
       "<!-- 1 -->\n",
       "<g id=\"node2\" class=\"node\">\n",
       "<title>1</title>\n",
       "<g id=\"a_node2\"><a xlink:title=\"lalalala\">\n",
       "<ellipse fill=\"#f0fff4\" stroke=\"black\" cx=\"27\" cy=\"-12.5\" rx=\"12.5\" ry=\"12.5\"/>\n",
       "<text text-anchor=\"middle\" x=\"27\" y=\"-10\" font-family=\"Times,serif\" font-size=\"10.00\">123</text>\n",
       "</a>\n",
       "</g>\n",
       "</g>\n",
       "<!-- dsd&#45;&gt;1 -->\n",
       "<g id=\"edge1\" class=\"edge\">\n",
       "<title>dsd-&gt;1</title>\n",
       "<path fill=\"none\" stroke=\"black\" d=\"M27,-75.9C27,-63.2 27,-47.73 27,-35.37\"/>\n",
       "<polygon fill=\"black\" stroke=\"black\" points=\"30.5,-35.06 27,-25.06 23.5,-35.06 30.5,-35.06\"/>\n",
       "<text text-anchor=\"middle\" x=\"36.5\" y=\"-46.8\" font-family=\"Times,serif\" font-size=\"14.00\">43</text>\n",
       "</g>\n",
       "<!-- lala -->\n",
       "<g id=\"node3\" class=\"node\">\n",
       "<title>lala</title>\n",
       "<ellipse fill=\"none\" stroke=\"black\" cx=\"99\" cy=\"-101\" rx=\"27\" ry=\"18\"/>\n",
       "</g>\n",
       "</g>\n",
       "</svg>"
      ],
      "text/plain": [
       "<IPython.core.display.SVG object>"
      ]
     },
     "execution_count": 21,
     "metadata": {},
     "output_type": "execute_result"
    }
   ],
   "source": [
    "#'color': 'transparent',\n",
    "G.add_nodes_from([('lala', {'label': '', 'tooltip': ''})])\n",
    "SVG(nx.nx_pydot.to_pydot(G).create_svg())"
   ]
  },
  {
   "cell_type": "code",
   "execution_count": 15,
   "id": "30450189",
   "metadata": {},
   "outputs": [
    {
     "data": {
      "text/plain": [
       "{'dsd': (27.0, 101.0), 1: (27.0, 12.5)}"
      ]
     },
     "execution_count": 15,
     "metadata": {},
     "output_type": "execute_result"
    }
   ],
   "source": [
    "nx.nx_pydot.pydot_layout(G, prog='dot')"
   ]
  },
  {
   "cell_type": "code",
   "execution_count": 37,
   "id": "b444c1fd",
   "metadata": {},
   "outputs": [
    {
     "data": {
      "image/png": "[encoded data removed]",
      "text/plain": [
       "<Figure size 720x504 with 1 Axes>"
      ]
     },
     "metadata": {},
     "output_type": "display_data"
    }
   ],
   "source": [
    "nx.draw(nx.fast_gnp_random_graph(8,0.2, directed=True))"
   ]
  },
  {
   "cell_type": "code",
   "execution_count": 12,
   "id": "677068c7",
   "metadata": {},
   "outputs": [],
   "source": [
    "class dummy:\n",
    "    def __getitem__(self, key):\n",
    "        return key"
   ]
  },
  {
   "cell_type": "code",
   "execution_count": 16,
   "id": "803fc651",
   "metadata": {},
   "outputs": [
    {
     "data": {
      "text/plain": [
       "(slice(1, 10, None), 3)"
      ]
     },
     "execution_count": 16,
     "metadata": {},
     "output_type": "execute_result"
    }
   ],
   "source": [
    "dummy()[1:10, 3]"
   ]
  },
  {
   "cell_type": "code",
   "execution_count": 17,
   "id": "af6694a9",
   "metadata": {},
   "outputs": [
    {
     "data": {
      "text/plain": [
       "(1, 2)"
      ]
     },
     "execution_count": 17,
     "metadata": {},
     "output_type": "execute_result"
    }
   ],
   "source": [
    "tuple((1,2))"
   ]
  },
  {
   "cell_type": "code",
   "execution_count": 44,
   "id": "a47576f0",
   "metadata": {},
   "outputs": [
    {
     "data": {
      "image/svg+xml": [
       "<svg xmlns=\"http://www.w3.org/2000/svg\" xmlns:xlink=\"http://www.w3.org/1999/xlink\" width=\"146pt\" height=\"66pt\" viewBox=\"0.00 0.00 146.00 66.00\">\n",
       "<g id=\"graph0\" class=\"graph\" transform=\"scale(1 1) rotate(0) translate(4 62)\">\n",
       "<title>%3</title>\n",
       "<polygon fill=\"white\" stroke=\"transparent\" points=\"-4,4 -4,-62 142,-62 142,4 -4,4\"/>\n",
       "<!-- dsd -->\n",
       "<g id=\"node1\" class=\"node\">\n",
       "<title>dsd</title>\n",
       "<polygon fill=\"none\" stroke=\"black\" points=\"15,-30 15,-51 40,-51 40,-30 15,-30\"/>\n",
       "<text text-anchor=\"start\" x=\"18\" y=\"-36.8\" font-family=\"Times,serif\" font-size=\"14.00\">10</text>\n",
       "<polygon fill=\"#00cc11\" stroke=\"transparent\" points=\"15,-7 15,-28 40,-28 40,-7 15,-7\"/>\n",
       "<polygon fill=\"none\" stroke=\"black\" points=\"15,-7 15,-28 40,-28 40,-7 15,-7\"/>\n",
       "<text text-anchor=\"start\" x=\"22\" y=\"-13.8\" font-family=\"Times,serif\" font-size=\"14.00\">B</text>\n",
       "<polygon fill=\"none\" stroke=\"black\" points=\"11.5,-4 11.5,-54 42.5,-54 42.5,-4 11.5,-4\"/>\n",
       "</g>\n",
       "<!-- 1 -->\n",
       "<g id=\"node2\" class=\"node\">\n",
       "<title>1</title>\n",
       "<g id=\"a_node2\"><a xlink:title=\"lalalala\">\n",
       "<ellipse fill=\"#f0fff4\" stroke=\"black\" cx=\"123.5\" cy=\"-29\" rx=\"14.5\" ry=\"14.5\"/>\n",
       "<text text-anchor=\"middle\" x=\"123.5\" y=\"-26.8\" font-family=\"Times,serif\" font-size=\"9.00\">123</text>\n",
       "</a>\n",
       "</g>\n",
       "</g>\n",
       "<!-- dsd&#45;&gt;1 -->\n",
       "<g id=\"edge1\" class=\"edge\">\n",
       "<title>dsd-&gt;1</title>\n",
       "<path fill=\"none\" stroke=\"black\" d=\"M54.07,-29C68.04,-29 85.12,-29 98.72,-29\"/>\n",
       "<polygon fill=\"black\" stroke=\"black\" points=\"98.76,-32.5 108.76,-29 98.76,-25.5 98.76,-32.5\"/>\n",
       "<text text-anchor=\"middle\" x=\"81.5\" y=\"-32.8\" font-family=\"Times,serif\" font-size=\"14.00\">43</text>\n",
       "</g>\n",
       "</g>\n",
       "</svg>"
      ],
      "text/plain": [
       "<IPython.core.display.SVG object>"
      ]
     },
     "execution_count": 44,
     "metadata": {},
     "output_type": "execute_result"
    }
   ],
   "source": [
    "G_ = nx.nx_pydot.to_pydot(G)\n",
    "G_.set('rankdir', 'LR')\n",
    "SVG(G_.create_svg())"
   ]
  },
  {
   "cell_type": "code",
   "execution_count": null,
   "id": "be9c27b8",
   "metadata": {},
   "outputs": [],
   "source": [
    "B = np.array([[0, 2],\n",
    "              [2, 0]])\n",
    "# np.linalg.matrix_power(B, 2)\n",
    "# np.apply_over_axes(lambda x: x**2, B, [])\n",
    "B[0] = [2, 3]\n",
    "B"
   ]
  },
  {
   "cell_type": "code",
   "execution_count": 43,
   "id": "6093ac5a",
   "metadata": {},
   "outputs": [
    {
     "data": {
      "application/vnd.jupyter.widget-view+json": {
       "model_id": "54ffe2c733394c60b39279cabbe3bb31",
       "version_major": 2,
       "version_minor": 0
      },
      "text/plain": [
       "HBox(children=(Play(value=50, description='Press play', interval=500), IntSlider(value=0)))"
      ]
     },
     "metadata": {},
     "output_type": "display_data"
    }
   ],
   "source": [
    "play = widgets.Play(\n",
    "    value=50,\n",
    "    min=0,\n",
    "    max=100,\n",
    "    step=1,\n",
    "    interval=500,\n",
    "    description=\"Press play\",\n",
    "    disabled=False\n",
    ")\n",
    "slider = widgets.IntSlider()\n",
    "widgets.jslink((play, 'value'), (slider, 'value'))\n",
    "widgets.HBox([play, slider])"
   ]
  },
  {
   "cell_type": "markdown",
   "id": "5a428582",
   "metadata": {},
   "source": [
    "---"
   ]
  },
  {
   "cell_type": "code",
   "execution_count": null,
   "id": "cbe00fd4",
   "metadata": {},
   "outputs": [],
   "source": [
    "\n",
    "\n",
    "\n",
    "\n",
    "\n",
    "\n",
    "\n",
    "\n",
    "\n",
    "\n",
    "\n",
    "\n",
    "\n",
    "\n"
   ]
  }
 ],
 "metadata": {
  "kernelspec": {
   "display_name": "Python 3 (ipykernel)",
   "language": "python",
   "name": "python3"
  },
  "language_info": {
   "codemirror_mode": {
    "name": "ipython",
    "version": 3
   },
   "file_extension": ".py",
   "mimetype": "text/x-python",
   "name": "python",
   "nbconvert_exporter": "python",
   "pygments_lexer": "ipython3",
   "version": "3.10.0"
  }
 },
 "nbformat": 4,
 "nbformat_minor": 5
}
