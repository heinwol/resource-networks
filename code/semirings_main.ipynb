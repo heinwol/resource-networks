{
 "cells": [
  {
   "cell_type": "code",
   "execution_count": 1,
   "id": "bcebb118",
   "metadata": {},
   "outputs": [],
   "source": [
    "%load_ext autoreload\n",
    "%autoreload 1\n",
    "%aimport resource_networks\n",
    "%aimport network_manipulation \n",
    "\n",
    "\n",
    "from resource_networks import *\n",
    "from network_manipulation import *\n",
    "\n",
    "import matplotlib.pyplot as plt\n",
    "plt.rcParams[\"figure.figsize\"] = (10, 7)\n",
    "plt.rcParams[\"axes.grid\"] = True\n",
    "plt.rcParams[\"font.size\"] = 12\n",
    "# import plotly.graph_objs as go\n",
    "# import plotly.express as px"
   ]
  },
  {
   "cell_type": "code",
   "execution_count": 11,
   "id": "ecadc9c7",
   "metadata": {},
   "outputs": [
    {
     "data": {
      "application/vnd.jupyter.widget-view+json": {
       "model_id": "465cdeb407e8415cb3328308a0ac0db1",
       "version_major": 2,
       "version_minor": 0
      },
      "text/plain": [
       "interactive(children=(IntSlider(value=0, description='№ of iteration', max=39), Output()), _dom_classes=('widg…"
      ]
     },
     "metadata": {},
     "output_type": "display_data"
    }
   ],
   "source": [
    "n = 7\n",
    "G2 = ResourceDiGraph(nx.fast_gnp_random_graph(n, 0.2, directed=True))\n",
    "sim = G2.run_simulation(np.random.randint(10, 13, size=n), 40)\n",
    "plot_simulation(G2, sim)\n",
    "# sim.arr"
   ]
  },
  {
   "cell_type": "code",
   "execution_count": 3,
   "id": "cb1b0251",
   "metadata": {},
   "outputs": [
    {
     "data": {
      "image/png": "[encoded data removed]",
      "text/plain": [
       "<Figure size 720x504 with 1 Axes>"
      ]
     },
     "metadata": {},
     "output_type": "display_data"
    }
   ],
   "source": [
    "G1 = make_random_weights(nx.cycle_graph(4, create_using=nx.DiGraph))\n",
    "G2 = make_random_weights(nx.cycle_graph(2, create_using=nx.DiGraph))\n",
    "draw_weighted(nx.contracted_nodes(nx.disjoint_union(G1, G2), 2, 4))"
   ]
  },
  {
   "cell_type": "code",
   "execution_count": null,
   "id": "d4a03ad1",
   "metadata": {},
   "outputs": [],
   "source": []
  },
  {
   "cell_type": "code",
   "execution_count": 10,
   "id": "a481721b",
   "metadata": {},
   "outputs": [
    {
     "data": {
      "application/vnd.jupyter.widget-view+json": {
       "model_id": "6eb6d6ea5de940218185ae6c3b467825",
       "version_major": 2,
       "version_minor": 0
      },
      "text/plain": [
       "interactive(children=(IntSlider(value=0, description='№ of iteration', max=99), Output()), _dom_classes=('widg…"
      ]
     },
     "metadata": {},
     "output_type": "display_data"
    }
   ],
   "source": [
    "G_2_cycles = ResourceDiGraph(nx.contracted_nodes(nx.disjoint_union(G1, G2), 2, 4))\n",
    "st_arr = G_2_cycles.run_simulation([3, 3, 1, 2, 1], n_iters=100)\n",
    "plot_simulation(G_2_cycles, st_arr)"
   ]
  },
  {
   "cell_type": "code",
   "execution_count": 29,
   "id": "a1e1f244",
   "metadata": {},
   "outputs": [
    {
     "data": {
      "text/plain": [
       "StateArray(node_descriptor={1: 0, 2: 1}, states_arr=array([[3. , 4. ],\n",
       "       [5.2, 1.8]]), flow_arr=array([[[0. , 0. ],\n",
       "        [0. , 0. ]],\n",
       "\n",
       "       [[1.2, 1.8],\n",
       "        [4. , 0. ]]]), total_output_res=[5, 4])"
      ]
     },
     "execution_count": 29,
     "metadata": {},
     "output_type": "execute_result"
    }
   ],
   "source": [
    "S1 = ResourceDiGraph()\n",
    "S1.add_weighted_edges_from([(1, 2, 3), (2, 1, 4), (1, 1, 2)])\n",
    "S1.run_simulation([3, 4], 2)"
   ]
  },
  {
   "cell_type": "code",
   "execution_count": 30,
   "id": "6b59845b",
   "metadata": {},
   "outputs": [
    {
     "data": {
      "text/plain": [
       "StateArray(node_descriptor={1: 0, 2: 1}, states_arr=array([[3. , 2. ],\n",
       "       [3.2, 1.8]]), flow_arr=array([[[0. , 0. ],\n",
       "        [0. , 0. ]],\n",
       "\n",
       "       [[1.2, 1.8],\n",
       "        [2. , 0. ]]]), total_output_res=[5, 2])"
      ]
     },
     "execution_count": 30,
     "metadata": {},
     "output_type": "execute_result"
    }
   ],
   "source": [
    "S2 = ResourceDiGraph()\n",
    "S2.add_weighted_edges_from([(1, 2, 3), (2, 1, 2), (1, 1, 2)])\n",
    "S2.run_simulation([3, 2], 2)"
   ]
  },
  {
   "cell_type": "code",
   "execution_count": 12,
   "id": "b5af8a87",
   "metadata": {},
   "outputs": [
    {
     "data": {
      "application/vnd.jupyter.widget-view+json": {
       "model_id": "0b361cb298da462d933a4a62eedd8097",
       "version_major": 2,
       "version_minor": 0
      },
      "text/plain": [
       "interactive(children=(IntSlider(value=0, description='№ of iteration', max=31), Output()), _dom_classes=('widg…"
      ]
     },
     "metadata": {},
     "output_type": "display_data"
    }
   ],
   "source": [
    "M = np.array([\n",
    "    [1, 1, 1, 1, 1],\n",
    "    [1, 1, 1, 1, 1],\n",
    "    [3, 1, 1, 1, 1],\n",
    "    [4, 1, 1, 1, 1],\n",
    "    [5, 1, 1, 1, 1]\n",
    "])\n",
    "G = ResourceDiGraph(nx.from_numpy_matrix(M, create_using=nx.DiGraph))\n",
    "sim = G.run_simulation([0, 40, 0, 0, 0], 32)\n",
    "plot_simulation(G, sim, scale=1.5)"
   ]
  },
  {
   "cell_type": "code",
   "execution_count": 28,
   "id": "202869c7",
   "metadata": {},
   "outputs": [
    {
     "data": {
      "text/plain": [
       "array([[0.2       , 0.2       , 0.2       , 0.2       , 0.2       ],\n",
       "       [0.2       , 0.2       , 0.2       , 0.2       , 0.2       ],\n",
       "       [0.42857143, 0.14285714, 0.14285714, 0.14285714, 0.14285714],\n",
       "       [0.5       , 0.125     , 0.125     , 0.125     , 0.125     ],\n",
       "       [0.55555556, 0.11111111, 0.11111111, 0.11111111, 0.11111111]])"
      ]
     },
     "execution_count": 28,
     "metadata": {},
     "output_type": "execute_result"
    }
   ],
   "source": [
    "G.stochastic_matrix()"
   ]
  },
  {
   "cell_type": "code",
   "execution_count": 62,
   "id": "c26ca4cb",
   "metadata": {},
   "outputs": [
    {
     "data": {
      "text/plain": [
       "array([[1.        , 1.        , 1.        , 1.        , 1.        ],\n",
       "       [0.47531626, 0.47531626, 0.47531626, 0.47531626, 0.47531626],\n",
       "       [1.01853485, 0.33951162, 0.33951162, 0.33951162, 0.33951162],\n",
       "       [1.18829066, 0.29707266, 0.29707266, 0.29707266, 0.29707266],\n",
       "       [1.32032295, 0.26406459, 0.26406459, 0.26406459, 0.26406459]])"
      ]
     },
     "metadata": {},
     "output_type": "display_data"
    },
    {
     "data": {
      "text/plain": [
       "array([5.00191994, 2.37610133, 2.37610133, 2.37610133, 2.37610133])"
      ]
     },
     "execution_count": 62,
     "metadata": {},
     "output_type": "execute_result"
    }
   ],
   "source": [
    "# .sum(axis=0) -- входящий поток\n",
    "# .sum(axis=1) -- исходящий поток\n",
    "display(sim.flow_arr[30])\n",
    "sim.flow_arr[30].sum(axis=0) @ G.stochastic_matrix()"
   ]
  },
  {
   "cell_type": "code",
   "execution_count": 63,
   "id": "30626649",
   "metadata": {},
   "outputs": [
    {
     "data": {
      "text/plain": [
       "array([5.001427  , 2.37560839, 2.37560839, 2.37560839, 2.37560839])"
      ]
     },
     "execution_count": 63,
     "metadata": {},
     "output_type": "execute_result"
    }
   ],
   "source": [
    "sim.flow_arr[31].sum(axis=0)"
   ]
  },
  {
   "cell_type": "code",
   "execution_count": 70,
   "id": "4ee41571",
   "metadata": {},
   "outputs": [
    {
     "data": {
      "text/plain": [
       "array([[0.2       , 0.2       , 0.2       , 0.2       , 0.2       ],\n",
       "       [1.        , 1.        , 1.        , 1.        , 1.        ],\n",
       "       [0.42857143, 0.14285714, 0.14285714, 0.14285714, 0.14285714],\n",
       "       [0.5       , 0.125     , 0.125     , 0.125     , 0.125     ],\n",
       "       [0.55555556, 0.11111111, 0.11111111, 0.11111111, 0.11111111]])"
      ]
     },
     "execution_count": 70,
     "metadata": {},
     "output_type": "execute_result"
    }
   ],
   "source": [
    "sim.flow_arr[2]"
   ]
  },
  {
   "cell_type": "code",
   "execution_count": 74,
   "id": "0d8fc38f",
   "metadata": {},
   "outputs": [
    {
     "data": {
      "text/plain": [
       "array([3, 7])"
      ]
     },
     "execution_count": 74,
     "metadata": {},
     "output_type": "execute_result"
    }
   ],
   "source": [
    "arr = np.array([[1, 2], \n",
    "                [3, 4]])\n",
    "arr.sum(axis=1)"
   ]
  },
  {
   "cell_type": "markdown",
   "id": "c895bb8c",
   "metadata": {},
   "source": [
    "---"
   ]
  },
  {
   "cell_type": "code",
   "execution_count": 212,
   "id": "646c9f05",
   "metadata": {},
   "outputs": [],
   "source": [
    "# # print(nx.nx_pydot.to_pydot(G).create_dot().decode('utf-8'))\n",
    "# G_pd = nx.nx_pydot.to_pydot(G)\n",
    "# # G_pd.set('fontsize', 4)\n",
    "# G_pd.get_attributes()\n",
    "# print(G_pd.create_dot().decode('utf-8'))\n",
    "# # G_pd.create_dot()\n",
    "\n",
    "G = nx.DiGraph()\n",
    "G.add_edge('dsd', 1, weight=2, label='43')\n",
    "\n",
    "G.graph['node'] = {'fontsize': 10}\n",
    "# G.graph['edge'] = {'fontsize': 10}\n",
    "# G.graph['rankdir'] = 'LR'\n",
    "\n",
    "# G.remove_edge(0, 1)\n",
    "# first(G.edges(data=True))[2].get('weight')\n",
    "# G.nodes['dsd']['penwidth'] = 4\n",
    "# G.nodes['dsd']['label'] = \"\"\"<\n",
    "# <TABLE BORDER=\"0\" CELLBORDER=\"1\" CELLSPACING=\"0\">\n",
    "#   <TR><TD ROWSPAN=\"3\" BGCOLOR=\"yellow\">class</TD></TR>\n",
    "#   <TR><TD PORT=\"here\" BGCOLOR=\"lightblue\">qualifier</TD></TR>\n",
    "# </TABLE>>\"\"\"\n",
    "G.nodes['dsd']['shape'] = 'plaintext'\n",
    "G.nodes['dsd']['label'] = f\"\"\"<<table>\n",
    "                          <tr><td>{10}</td></tr>\n",
    "                          <tr><td bgcolor='#00CC11'>B</td></tr>\n",
    "                       </table>>\n",
    "\"\"\"\n",
    "\n",
    "G.nodes[1]['tooltip'] = 'lalalala'\n",
    "\n",
    "G.nodes[1]['shape'] = 'circle'\n",
    "G.nodes[1]['style'] = 'filled'\n",
    "G.nodes[1]['fillcolor'] = '#f0fff4'\n",
    "G.nodes[1]['fixedsize'] = True\n",
    "# G.nodes[1]['fontsize'] = 10\n",
    "G.nodes[1]['width'] = 0.35\n",
    "G.nodes[1]['label'] = 123\n",
    "\n",
    "G.edges['dsd', 1]['penwidth'] = 0.3\n",
    "G.edges['dsd', 1]['arrowsize'] = 0.7\n",
    "G.edges['dsd', 1]['fontsize'] = 10\n",
    "\n",
    "# print(nx.nx_pydot.to_pydot(G).create_dot().decode('utf-8'))\n",
    "SVG(nx.nx_pydot.to_pydot(G).create_svg())\n",
    "\n",
    "#'color': 'transparent',\n",
    "G.add_nodes_from([('lala', {'label': '', 'tooltip': ''})])\n",
    "SVG(nx.nx_pydot.to_pydot(G).create_svg())\n",
    "\n",
    "nx.nx_pydot.pydot_layout(G, prog='dot')\n",
    "\n",
    "nx.draw(nx.fast_gnp_random_graph(8,0.2, directed=True))\n",
    "\n",
    "G_ = nx.nx_pydot.to_pydot(G)\n",
    "G_.set('rankdir', 'LR')\n",
    "SVG(G_.create_svg())\n",
    "\n",
    "play = widgets.Play(\n",
    "    value=50,\n",
    "    min=0,\n",
    "    max=100,\n",
    "    step=1,\n",
    "    interval=500,\n",
    "    description=\"Press play\",\n",
    "    disabled=False\n",
    ")\n",
    "slider = widgets.IntSlider()\n",
    "widgets.jslink((play, 'value'), (slider, 'value'))\n",
    "widgets.HBox([play, slider])"
   ]
  },
  {
   "cell_type": "markdown",
   "id": "5a428582",
   "metadata": {},
   "source": [
    "---"
   ]
  },
  {
   "cell_type": "code",
   "execution_count": null,
   "id": "cbe00fd4",
   "metadata": {},
   "outputs": [],
   "source": [
    "\n",
    "\n",
    "\n",
    "\n",
    "\n",
    "\n",
    "\n",
    "\n",
    "\n",
    "\n",
    "\n",
    "\n",
    "\n",
    "\n"
   ]
  }
 ],
 "metadata": {
  "kernelspec": {
   "display_name": "Python 3 (ipykernel)",
   "language": "python",
   "name": "python3"
  },
  "language_info": {
   "codemirror_mode": {
    "name": "ipython",
    "version": 3
   },
   "file_extension": ".py",
   "mimetype": "text/x-python",
   "name": "python",
   "nbconvert_exporter": "python",
   "pygments_lexer": "ipython3",
   "version": "3.10.0"
  }
 },
 "nbformat": 4,
 "nbformat_minor": 5
}
