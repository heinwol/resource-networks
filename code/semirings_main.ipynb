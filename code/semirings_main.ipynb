{
 "cells": [
  {
   "cell_type": "markdown",
   "id": "8784b6e8",
   "metadata": {},
   "source": [
    "## Попытки полуколец в контексте ресурсных сетей"
   ]
  },
  {
   "cell_type": "code",
   "execution_count": 1,
   "id": "bcebb118",
   "metadata": {},
   "outputs": [],
   "source": [
    "from resource_networks import *\n",
    "import matplotlib.pyplot as plt\n",
    "\n",
    "from ipywidgets import interact, widgets\n",
    "\n",
    "plt.rcParams[\"figure.figsize\"] = (10, 7)\n",
    "plt.rcParams[\"axes.grid\"] = True\n",
    "\n",
    "plt.rcParams[\"font.size\"] = 12"
   ]
  },
  {
   "cell_type": "code",
   "execution_count": 2,
   "id": "bbaa7a89",
   "metadata": {},
   "outputs": [],
   "source": [
    "import plotly.graph_objs as go\n",
    "import plotly.express as px"
   ]
  },
  {
   "cell_type": "code",
   "execution_count": 7,
   "id": "f586f68a",
   "metadata": {},
   "outputs": [
    {
     "data": {
      "text/plain": [
       "array([[2, 5, 6, 7, 1],\n",
       "       [5, 7, 8, 2, 5]])"
      ]
     },
     "execution_count": 7,
     "metadata": {},
     "output_type": "execute_result"
    }
   ],
   "source": [
    "arr = np.random.randint(0, 10, 10).reshape((2, -1))\n",
    "arr"
   ]
  },
  {
   "cell_type": "code",
   "execution_count": 18,
   "id": "8754dff8",
   "metadata": {},
   "outputs": [],
   "source": [
    "class SimpleNodeArrayDescriptor:\n",
    "    def __init__(self,\n",
    "                 val_descriptor: dict[Hashable, int],\n",
    "                 arr: np.ndarray | list[Any],\n",
    "                 dims_affected: tuple[int] | None = None) -> None:\n",
    "        self.val_descriptor = val_descriptor\n",
    "        self.arr = arr\n",
    "        self.dims_affected = set(dims_affected if dims_affected is not None else range(len(arr.shape)))\n",
    "    def __getitem__(self, key):\n",
    "        # [0, 2] => (arr['lala', 5, 1] => arr[desc['lala'], 5, desc[12]])\n",
    "        key = (key,) if not isinstance(key, tuple) else key\n",
    "        new_key = list(key)\n",
    "        for i in range(len(key)):\n",
    "            if i in self.dims_affected:\n",
    "                new_key[i] = self.val_descriptor[key[i]]\n",
    "        new_key = tuple(new_key)\n",
    "        print(new_key)\n",
    "        return self.arr[new_key if len(new_key) != 1 else new_key[0]]"
   ]
  },
  {
   "cell_type": "code",
   "execution_count": 19,
   "id": "abca031e",
   "metadata": {},
   "outputs": [
    {
     "name": "stdout",
     "output_type": "stream",
     "text": [
      "(0, 2)\n"
     ]
    },
    {
     "data": {
      "text/plain": [
       "6"
      ]
     },
     "execution_count": 19,
     "metadata": {},
     "output_type": "execute_result"
    }
   ],
   "source": [
    "arr_descr = SimpleNodeArrayDescriptor({'lala': 0, 'bebe': 1}, arr, (0,))\n",
    "arr_descr['lala', 2]"
   ]
  },
  {
   "cell_type": "code",
   "execution_count": 8,
   "id": "7868fad8",
   "metadata": {},
   "outputs": [],
   "source": [
    "def plot_simulation(G, simulation):\n",
    "    pl = G.plot_with_states(sim)\n",
    "    f = lambda i: pl[i]\n",
    "    interact(f, i=widgets.IntSlider(min=0,max=len(sim)-1,step=1,value=0, description='№ of iteration')) \n",
    "    return None"
   ]
  },
  {
   "cell_type": "code",
   "execution_count": 9,
   "id": "ecadc9c7",
   "metadata": {},
   "outputs": [
    {
     "name": "stdout",
     "output_type": "stream",
     "text": [
      "[14, 15, 5, 2, 0]\n"
     ]
    },
    {
     "data": {
      "application/vnd.jupyter.widget-view+json": {
       "model_id": "9460f7841a13433ca23b4fa8d15b4a36",
       "version_major": 2,
       "version_minor": 0
      },
      "text/plain": [
       "interactive(children=(IntSlider(value=0, description='№ of iteration', max=39), Output()), _dom_classes=('widg…"
      ]
     },
     "metadata": {},
     "output_type": "display_data"
    }
   ],
   "source": [
    "G2 = ResourceDiGraph(nx.fast_gnp_random_graph(5, 0.4, directed=True))\n",
    "sim = G2.run_simulation(np.random.randint(0, 10, size=5), 40)\n",
    "plot_simulation(G2, sim)\n",
    "# sim.arr"
   ]
  },
  {
   "cell_type": "code",
   "execution_count": 71,
   "id": "456fa370",
   "metadata": {},
   "outputs": [
    {
     "data": {
      "text/plain": [
       "array([[ 0.        ,  3.        ,  8.        ,  2.        ,  9.        ],\n",
       "       [ 0.72727273,  7.90909091,  0.        ,  0.        , 13.36363636],\n",
       "       [ 0.        ,  8.63636364,  0.        ,  0.        , 13.36363636],\n",
       "       [ 0.        ,  8.63636364,  0.        ,  0.        , 13.36363636],\n",
       "       [ 0.        ,  8.63636364,  0.        ,  0.        , 13.36363636],\n",
       "       [ 0.        ,  8.63636364,  0.        ,  0.        , 13.36363636],\n",
       "       [ 0.        ,  8.63636364,  0.        ,  0.        , 13.36363636],\n",
       "       [ 0.        ,  8.63636364,  0.        ,  0.        , 13.36363636],\n",
       "       [ 0.        ,  8.63636364,  0.        ,  0.        , 13.36363636],\n",
       "       [ 0.        ,  8.63636364,  0.        ,  0.        , 13.36363636],\n",
       "       [ 0.        ,  8.63636364,  0.        ,  0.        , 13.36363636],\n",
       "       [ 0.        ,  8.63636364,  0.        ,  0.        , 13.36363636],\n",
       "       [ 0.        ,  8.63636364,  0.        ,  0.        , 13.36363636],\n",
       "       [ 0.        ,  8.63636364,  0.        ,  0.        , 13.36363636],\n",
       "       [ 0.        ,  8.63636364,  0.        ,  0.        , 13.36363636],\n",
       "       [ 0.        ,  8.63636364,  0.        ,  0.        , 13.36363636],\n",
       "       [ 0.        ,  8.63636364,  0.        ,  0.        , 13.36363636],\n",
       "       [ 0.        ,  8.63636364,  0.        ,  0.        , 13.36363636],\n",
       "       [ 0.        ,  8.63636364,  0.        ,  0.        , 13.36363636],\n",
       "       [ 0.        ,  8.63636364,  0.        ,  0.        , 13.36363636],\n",
       "       [ 0.        ,  8.63636364,  0.        ,  0.        , 13.36363636],\n",
       "       [ 0.        ,  8.63636364,  0.        ,  0.        , 13.36363636],\n",
       "       [ 0.        ,  8.63636364,  0.        ,  0.        , 13.36363636],\n",
       "       [ 0.        ,  8.63636364,  0.        ,  0.        , 13.36363636],\n",
       "       [ 0.        ,  8.63636364,  0.        ,  0.        , 13.36363636],\n",
       "       [ 0.        ,  8.63636364,  0.        ,  0.        , 13.36363636],\n",
       "       [ 0.        ,  8.63636364,  0.        ,  0.        , 13.36363636],\n",
       "       [ 0.        ,  8.63636364,  0.        ,  0.        , 13.36363636],\n",
       "       [ 0.        ,  8.63636364,  0.        ,  0.        , 13.36363636],\n",
       "       [ 0.        ,  8.63636364,  0.        ,  0.        , 13.36363636],\n",
       "       [ 0.        ,  8.63636364,  0.        ,  0.        , 13.36363636],\n",
       "       [ 0.        ,  8.63636364,  0.        ,  0.        , 13.36363636],\n",
       "       [ 0.        ,  8.63636364,  0.        ,  0.        , 13.36363636],\n",
       "       [ 0.        ,  8.63636364,  0.        ,  0.        , 13.36363636],\n",
       "       [ 0.        ,  8.63636364,  0.        ,  0.        , 13.36363636],\n",
       "       [ 0.        ,  8.63636364,  0.        ,  0.        , 13.36363636],\n",
       "       [ 0.        ,  8.63636364,  0.        ,  0.        , 13.36363636],\n",
       "       [ 0.        ,  8.63636364,  0.        ,  0.        , 13.36363636],\n",
       "       [ 0.        ,  8.63636364,  0.        ,  0.        , 13.36363636],\n",
       "       [ 0.        ,  8.63636364,  0.        ,  0.        , 13.36363636]])"
      ]
     },
     "execution_count": 71,
     "metadata": {},
     "output_type": "execute_result"
    }
   ],
   "source": [
    "# for v in G2.G[1]:\n",
    "#     print(v)\n",
    "# plot_simulation(G2, sim)\n",
    "sim.arr"
   ]
  },
  {
   "cell_type": "markdown",
   "id": "c895bb8c",
   "metadata": {},
   "source": [
    "---"
   ]
  },
  {
   "cell_type": "code",
   "execution_count": 213,
   "id": "55306a6e",
   "metadata": {},
   "outputs": [
    {
     "data": {
      "text/plain": [
       "{'weight': 13, 'label': '43'}"
      ]
     },
     "execution_count": 213,
     "metadata": {},
     "output_type": "execute_result"
    }
   ],
   "source": [
    "G.edges['dsd', 1]\n",
    "\n",
    "for u, v, d in G.edges(data=True):\n",
    "    d['weight'] = 13\n",
    "    \n",
    "G['dsd'][1]"
   ]
  },
  {
   "cell_type": "code",
   "execution_count": 200,
   "id": "c3b7a0a4",
   "metadata": {},
   "outputs": [
    {
     "data": {
      "text/plain": [
       "{'fontsize': 4}"
      ]
     },
     "execution_count": 200,
     "metadata": {},
     "output_type": "execute_result"
    }
   ],
   "source": [
    "G.graph.get(\"graph\", {})"
   ]
  },
  {
   "cell_type": "code",
   "execution_count": 212,
   "id": "646c9f05",
   "metadata": {},
   "outputs": [],
   "source": [
    "# # print(nx.nx_pydot.to_pydot(G).create_dot().decode('utf-8'))\n",
    "# G_pd = nx.nx_pydot.to_pydot(G)\n",
    "# # G_pd.set('fontsize', 4)\n",
    "# G_pd.get_attributes()\n",
    "# print(G_pd.create_dot().decode('utf-8'))\n",
    "# # G_pd.create_dot()"
   ]
  },
  {
   "cell_type": "code",
   "execution_count": 221,
   "id": "e825f438",
   "metadata": {},
   "outputs": [
    {
     "data": {
      "image/svg+xml": [
       "<svg xmlns=\"http://www.w3.org/2000/svg\" xmlns:xlink=\"http://www.w3.org/1999/xlink\" width=\"62pt\" height=\"134pt\" viewBox=\"0.00 0.00 62.00 134.00\">\n",
       "<g id=\"graph0\" class=\"graph\" transform=\"scale(1 1) rotate(0) translate(4 130)\">\n",
       "<title>%3</title>\n",
       "<polygon fill=\"white\" stroke=\"transparent\" points=\"-4,4 -4,-130 58,-130 58,4 -4,4\"/>\n",
       "<!-- dsd -->\n",
       "<g id=\"node1\" class=\"node\">\n",
       "<title>dsd</title>\n",
       "<polygon fill=\"none\" stroke=\"black\" points=\"18,-102 18,-119 37,-119 37,-102 18,-102\"/>\n",
       "<text text-anchor=\"start\" x=\"21\" y=\"-108\" font-family=\"Times,serif\" font-size=\"10.00\">10</text>\n",
       "<polygon fill=\"#00cc11\" stroke=\"transparent\" points=\"18,-83 18,-100 37,-100 37,-83 18,-83\"/>\n",
       "<polygon fill=\"none\" stroke=\"black\" points=\"18,-83 18,-100 37,-100 37,-83 18,-83\"/>\n",
       "<text text-anchor=\"start\" x=\"23.5\" y=\"-89\" font-family=\"Times,serif\" font-size=\"10.00\">B</text>\n",
       "<polygon fill=\"none\" stroke=\"black\" points=\"14.5,-80 14.5,-122 39.5,-122 39.5,-80 14.5,-80\"/>\n",
       "</g>\n",
       "<!-- 1 -->\n",
       "<g id=\"node2\" class=\"node\">\n",
       "<title>1</title>\n",
       "<g id=\"a_node2\"><a xlink:title=\"lalalala\">\n",
       "<ellipse fill=\"#f0fff4\" stroke=\"black\" cx=\"27\" cy=\"-12.5\" rx=\"12.5\" ry=\"12.5\"/>\n",
       "<text text-anchor=\"middle\" x=\"27\" y=\"-10\" font-family=\"Times,serif\" font-size=\"10.00\">123</text>\n",
       "</a>\n",
       "</g>\n",
       "</g>\n",
       "<!-- dsd&#45;&gt;1 -->\n",
       "<g id=\"edge1\" class=\"edge\">\n",
       "<title>dsd-&gt;1</title>\n",
       "<path fill=\"none\" stroke=\"black\" d=\"M27,-75.9C27,-63.2 27,-47.73 27,-35.37\"/>\n",
       "<polygon fill=\"black\" stroke=\"black\" points=\"30.5,-35.06 27,-25.06 23.5,-35.06 30.5,-35.06\"/>\n",
       "<text text-anchor=\"middle\" x=\"36.5\" y=\"-46.8\" font-family=\"Times,serif\" font-size=\"14.00\">43</text>\n",
       "</g>\n",
       "</g>\n",
       "</svg>"
      ],
      "text/plain": [
       "<IPython.core.display.SVG object>"
      ]
     },
     "execution_count": 221,
     "metadata": {},
     "output_type": "execute_result"
    }
   ],
   "source": [
    "G = nx.DiGraph()\n",
    "G.add_edge('dsd', 1, weight=2, label='43')\n",
    "\n",
    "G.graph['node'] = {'fontsize': 10}\n",
    "# G.graph['edge'] = {'fontsize': 10}\n",
    "# G.graph['rankdir'] = 'LR'\n",
    "\n",
    "# G.remove_edge(0, 1)\n",
    "# first(G.edges(data=True))[2].get('weight')\n",
    "# G.nodes['dsd']['penwidth'] = 4\n",
    "# G.nodes['dsd']['label'] = \"\"\"<\n",
    "# <TABLE BORDER=\"0\" CELLBORDER=\"1\" CELLSPACING=\"0\">\n",
    "#   <TR><TD ROWSPAN=\"3\" BGCOLOR=\"yellow\">class</TD></TR>\n",
    "#   <TR><TD PORT=\"here\" BGCOLOR=\"lightblue\">qualifier</TD></TR>\n",
    "# </TABLE>>\"\"\"\n",
    "G.nodes['dsd']['shape'] = 'plaintext'\n",
    "G.nodes['dsd']['label'] = f\"\"\"<<table>\n",
    "                          <tr><td>{10}</td></tr>\n",
    "                          <tr><td bgcolor='#00CC11'>B</td></tr>\n",
    "                       </table>>\n",
    "\"\"\"\n",
    "\n",
    "G.nodes[1]['tooltip'] = 'lalalala'\n",
    "\n",
    "G.nodes[1]['shape'] = 'circle'\n",
    "G.nodes[1]['style'] = 'filled'\n",
    "G.nodes[1]['fillcolor'] = '#f0fff4'\n",
    "G.nodes[1]['fixedsize'] = True\n",
    "# G.nodes[1]['fontsize'] = 10\n",
    "G.nodes[1]['width'] = 0.35\n",
    "G.nodes[1]['label'] = 123\n",
    "\n",
    "# print(nx.nx_pydot.to_pydot(G).create_dot().decode('utf-8'))\n",
    "SVG(nx.nx_pydot.to_pydot(G).create_svg())"
   ]
  },
  {
   "cell_type": "code",
   "execution_count": 63,
   "id": "b444c1fd",
   "metadata": {},
   "outputs": [
    {
     "data": {
      "image/png": "[encoded data removed]",
      "text/plain": [
       "<Figure size 720x504 with 1 Axes>"
      ]
     },
     "metadata": {},
     "output_type": "display_data"
    }
   ],
   "source": [
    "nx.draw(nx.fast_gnp_random_graph(8,0.2, directed=True))"
   ]
  },
  {
   "cell_type": "code",
   "execution_count": 12,
   "id": "9f12cde5",
   "metadata": {},
   "outputs": [],
   "source": [
    "class dummy:\n",
    "    def __getitem__(self, key):\n",
    "        return key"
   ]
  },
  {
   "cell_type": "code",
   "execution_count": 16,
   "id": "3d9292ed",
   "metadata": {},
   "outputs": [
    {
     "data": {
      "text/plain": [
       "(slice(1, 10, None), 3)"
      ]
     },
     "execution_count": 16,
     "metadata": {},
     "output_type": "execute_result"
    }
   ],
   "source": [
    "dummy()[1:10, 3]"
   ]
  },
  {
   "cell_type": "code",
   "execution_count": 17,
   "id": "cb8e3576",
   "metadata": {},
   "outputs": [
    {
     "data": {
      "text/plain": [
       "(1, 2)"
      ]
     },
     "execution_count": 17,
     "metadata": {},
     "output_type": "execute_result"
    }
   ],
   "source": [
    "tuple((1,2))"
   ]
  },
  {
   "cell_type": "code",
   "execution_count": 44,
   "id": "a47576f0",
   "metadata": {},
   "outputs": [
    {
     "data": {
      "image/svg+xml": [
       "<svg xmlns=\"http://www.w3.org/2000/svg\" xmlns:xlink=\"http://www.w3.org/1999/xlink\" width=\"146pt\" height=\"66pt\" viewBox=\"0.00 0.00 146.00 66.00\">\n",
       "<g id=\"graph0\" class=\"graph\" transform=\"scale(1 1) rotate(0) translate(4 62)\">\n",
       "<title>%3</title>\n",
       "<polygon fill=\"white\" stroke=\"transparent\" points=\"-4,4 -4,-62 142,-62 142,4 -4,4\"/>\n",
       "<!-- dsd -->\n",
       "<g id=\"node1\" class=\"node\">\n",
       "<title>dsd</title>\n",
       "<polygon fill=\"none\" stroke=\"black\" points=\"15,-30 15,-51 40,-51 40,-30 15,-30\"/>\n",
       "<text text-anchor=\"start\" x=\"18\" y=\"-36.8\" font-family=\"Times,serif\" font-size=\"14.00\">10</text>\n",
       "<polygon fill=\"#00cc11\" stroke=\"transparent\" points=\"15,-7 15,-28 40,-28 40,-7 15,-7\"/>\n",
       "<polygon fill=\"none\" stroke=\"black\" points=\"15,-7 15,-28 40,-28 40,-7 15,-7\"/>\n",
       "<text text-anchor=\"start\" x=\"22\" y=\"-13.8\" font-family=\"Times,serif\" font-size=\"14.00\">B</text>\n",
       "<polygon fill=\"none\" stroke=\"black\" points=\"11.5,-4 11.5,-54 42.5,-54 42.5,-4 11.5,-4\"/>\n",
       "</g>\n",
       "<!-- 1 -->\n",
       "<g id=\"node2\" class=\"node\">\n",
       "<title>1</title>\n",
       "<g id=\"a_node2\"><a xlink:title=\"lalalala\">\n",
       "<ellipse fill=\"#f0fff4\" stroke=\"black\" cx=\"123.5\" cy=\"-29\" rx=\"14.5\" ry=\"14.5\"/>\n",
       "<text text-anchor=\"middle\" x=\"123.5\" y=\"-26.8\" font-family=\"Times,serif\" font-size=\"9.00\">123</text>\n",
       "</a>\n",
       "</g>\n",
       "</g>\n",
       "<!-- dsd&#45;&gt;1 -->\n",
       "<g id=\"edge1\" class=\"edge\">\n",
       "<title>dsd-&gt;1</title>\n",
       "<path fill=\"none\" stroke=\"black\" d=\"M54.07,-29C68.04,-29 85.12,-29 98.72,-29\"/>\n",
       "<polygon fill=\"black\" stroke=\"black\" points=\"98.76,-32.5 108.76,-29 98.76,-25.5 98.76,-32.5\"/>\n",
       "<text text-anchor=\"middle\" x=\"81.5\" y=\"-32.8\" font-family=\"Times,serif\" font-size=\"14.00\">43</text>\n",
       "</g>\n",
       "</g>\n",
       "</svg>"
      ],
      "text/plain": [
       "<IPython.core.display.SVG object>"
      ]
     },
     "execution_count": 44,
     "metadata": {},
     "output_type": "execute_result"
    }
   ],
   "source": [
    "G_ = nx.nx_pydot.to_pydot(G)\n",
    "G_.set('rankdir', 'LR')\n",
    "SVG(G_.create_svg())"
   ]
  },
  {
   "cell_type": "code",
   "execution_count": null,
   "id": "be9c27b8",
   "metadata": {},
   "outputs": [],
   "source": [
    "B = np.array([[0, 2],\n",
    "              [2, 0]])\n",
    "# np.linalg.matrix_power(B, 2)\n",
    "# np.apply_over_axes(lambda x: x**2, B, [])\n",
    "B[0] = [2, 3]\n",
    "B"
   ]
  },
  {
   "cell_type": "code",
   "execution_count": 43,
   "id": "6093ac5a",
   "metadata": {},
   "outputs": [
    {
     "data": {
      "application/vnd.jupyter.widget-view+json": {
       "model_id": "54ffe2c733394c60b39279cabbe3bb31",
       "version_major": 2,
       "version_minor": 0
      },
      "text/plain": [
       "HBox(children=(Play(value=50, description='Press play', interval=500), IntSlider(value=0)))"
      ]
     },
     "metadata": {},
     "output_type": "display_data"
    }
   ],
   "source": [
    "play = widgets.Play(\n",
    "    value=50,\n",
    "    min=0,\n",
    "    max=100,\n",
    "    step=1,\n",
    "    interval=500,\n",
    "    description=\"Press play\",\n",
    "    disabled=False\n",
    ")\n",
    "slider = widgets.IntSlider()\n",
    "widgets.jslink((play, 'value'), (slider, 'value'))\n",
    "widgets.HBox([play, slider])"
   ]
  },
  {
   "cell_type": "markdown",
   "id": "5a428582",
   "metadata": {},
   "source": [
    "---"
   ]
  },
  {
   "cell_type": "code",
   "execution_count": null,
   "id": "cbe00fd4",
   "metadata": {},
   "outputs": [],
   "source": [
    "\n",
    "\n",
    "\n",
    "\n",
    "\n",
    "\n",
    "\n",
    "\n",
    "\n",
    "\n",
    "\n",
    "\n",
    "\n",
    "\n"
   ]
  }
 ],
 "metadata": {
  "kernelspec": {
   "display_name": "Python 3 (ipykernel)",
   "language": "python",
   "name": "python3"
  },
  "language_info": {
   "codemirror_mode": {
    "name": "ipython",
    "version": 3
   },
   "file_extension": ".py",
   "mimetype": "text/x-python",
   "name": "python",
   "nbconvert_exporter": "python",
   "pygments_lexer": "ipython3",
   "version": "3.10.0"
  }
 },
 "nbformat": 4,
 "nbformat_minor": 5
}
