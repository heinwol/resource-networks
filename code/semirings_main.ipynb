{
 "cells": [
  {
   "cell_type": "markdown",
   "id": "e95640d4",
   "metadata": {},
   "source": [
    "## Попытки полуколец в контексте ресурсных сетей"
   ]
  },
  {
   "cell_type": "code",
   "execution_count": 1,
   "id": "37868dcd",
   "metadata": {},
   "outputs": [],
   "source": [
    "from resource_networks import *\n",
    "import matplotlib.pyplot as plt\n",
    "\n",
    "plt.rcParams[\"figure.figsize\"] = (10, 7)\n",
    "plt.rcParams[\"axes.grid\"] = True\n",
    "\n",
    "plt.rcParams[\"font.size\"] = 12"
   ]
  },
  {
   "cell_type": "markdown",
   "id": "e99e381e",
   "metadata": {},
   "source": [
    "### Правильные структуры данных"
   ]
  },
  {
   "cell_type": "markdown",
   "id": "d1359351",
   "metadata": {},
   "source": [
    "#### Собственно, алгебра и матрицы:"
   ]
  },
  {
   "cell_type": "code",
   "execution_count": 2,
   "id": "794fa1e2",
   "metadata": {},
   "outputs": [],
   "source": [
    "#(transition, limitation) where (transition < limitation)\n",
    "G = ResourceDiGraph()\n",
    "G.add_outedges_of_node(0, {1: 3, 2: 4})\n",
    "G.add_outedges_of_node(1, {0: 2, 2: 6})\n",
    "sim = G.run_simulation({0: 30, 1: 50, 2: 1}, 40)\n",
    "# G.plot()\n",
    "pl = G.plot_with_states(sim)"
   ]
  },
  {
   "cell_type": "code",
   "execution_count": 3,
   "id": "1b26616b",
   "metadata": {},
   "outputs": [
    {
     "data": {
      "application/vnd.jupyter.widget-view+json": {
       "model_id": "6027cb87165c4a1e839dbb69b3b045e4",
       "version_major": 2,
       "version_minor": 0
      },
      "text/plain": [
       "interactive(children=(IntSlider(value=0, description='i', max=39), Output()), _dom_classes=('widget-interact',…"
      ]
     },
     "metadata": {},
     "output_type": "display_data"
    }
   ],
   "source": [
    "f = lambda i: pl[i] #compose(identity, get_curried(pl))\n",
    "interact(f, i=widgets.IntSlider(min=0,max=len(sim)-1,step=1,value=0)) \n",
    "None"
   ]
  },
  {
   "cell_type": "code",
   "execution_count": 34,
   "id": "e825f438",
   "metadata": {},
   "outputs": [
    {
     "data": {
      "image/svg+xml": [
       "<svg xmlns=\"http://www.w3.org/2000/svg\" xmlns:xlink=\"http://www.w3.org/1999/xlink\" width=\"62pt\" height=\"153pt\" viewBox=\"0.00 0.00 62.00 153.00\">\n",
       "<g id=\"graph0\" class=\"graph\" transform=\"scale(1 1) rotate(0) translate(4 149)\">\n",
       "<polygon fill=\"white\" stroke=\"transparent\" points=\"-4,4 -4,-149 58,-149 58,4 -4,4\"/>\n",
       "<!-- dsd -->\n",
       "<g id=\"node1\" class=\"node\">\n",
       "<title>dsd</title>\n",
       "<polygon fill=\"none\" stroke=\"black\" points=\"17,-117 17,-138 37,-138 37,-117 17,-117\"/>\n",
       "<text text-anchor=\"start\" x=\"20\" y=\"-123.8\" font-family=\"Times New Roman,serif\" font-size=\"14.00\">34</text>\n",
       "<polygon fill=\"#00cc11\" stroke=\"transparent\" points=\"17,-94 17,-115 37,-115 37,-94 17,-94\"/>\n",
       "<polygon fill=\"none\" stroke=\"black\" points=\"17,-94 17,-115 37,-115 37,-94 17,-94\"/>\n",
       "<text text-anchor=\"start\" x=\"22\" y=\"-100.8\" font-family=\"Times New Roman,serif\" font-size=\"14.00\">B</text>\n",
       "<polygon fill=\"none\" stroke=\"black\" points=\"14,-91 14,-141 40,-141 40,-91 14,-91\"/>\n",
       "</g>\n",
       "<!-- 1 -->\n",
       "<g id=\"node2\" class=\"node\">\n",
       "<title>1</title>\n",
       "<ellipse fill=\"none\" stroke=\"black\" cx=\"27\" cy=\"-18\" rx=\"27\" ry=\"18\"/>\n",
       "<text text-anchor=\"middle\" x=\"27\" y=\"-14.3\" font-family=\"Times New Roman,serif\" font-size=\"14.00\">1</text>\n",
       "</g>\n",
       "<!-- dsd&#45;&gt;1 -->\n",
       "<g id=\"edge1\" class=\"edge\">\n",
       "<title>dsd-&gt;1</title>\n",
       "<path fill=\"none\" stroke=\"black\" d=\"M27,-86.97C27,-74.09 27,-58.87 27,-46.1\"/>\n",
       "<polygon fill=\"black\" stroke=\"black\" points=\"30.5,-46.05 27,-36.05 23.5,-46.05 30.5,-46.05\"/>\n",
       "<text text-anchor=\"middle\" x=\"34\" y=\"-57.8\" font-family=\"Times New Roman,serif\" font-size=\"14.00\">43</text>\n",
       "</g>\n",
       "</g>\n",
       "</svg>"
      ],
      "text/plain": [
       "<IPython.core.display.SVG object>"
      ]
     },
     "execution_count": 34,
     "metadata": {},
     "output_type": "execute_result"
    }
   ],
   "source": [
    "G = nx.DiGraph()\n",
    "G.add_edge('dsd', 1, weight=2, label='43')\n",
    "\n",
    "# G.graph['rankdir'] = 'LR'\n",
    "\n",
    "# G.remove_edge(0, 1)\n",
    "# first(G.edges(data=True))[2].get('weight')\n",
    "# G.nodes['dsd']['penwidth'] = 4\n",
    "# G.nodes['dsd']['label'] = \"\"\"<\n",
    "# <TABLE BORDER=\"0\" CELLBORDER=\"1\" CELLSPACING=\"0\">\n",
    "#   <TR><TD ROWSPAN=\"3\" BGCOLOR=\"yellow\">class</TD></TR>\n",
    "#   <TR><TD PORT=\"here\" BGCOLOR=\"lightblue\">qualifier</TD></TR>\n",
    "# </TABLE>>\"\"\"\n",
    "G.nodes['dsd']['shape'] = 'plaintext'\n",
    "G.nodes['dsd']['label'] = f\"\"\"<<table>\n",
    "                          <tr><td>{'3' + '4'}</td></tr>\n",
    "                          <tr><td bgcolor='#00CC11'>B</td></tr>\n",
    "                       </table>>\n",
    "\"\"\"\n",
    "G.nodes['dsd']\n",
    "SVG(nx.nx_pydot.to_pydot(G).create_svg())"
   ]
  },
  {
   "cell_type": "code",
   "execution_count": null,
   "id": "41acf449",
   "metadata": {},
   "outputs": [],
   "source": []
  },
  {
   "cell_type": "code",
   "execution_count": null,
   "id": "a47576f0",
   "metadata": {},
   "outputs": [],
   "source": [
    "G_ = nx.nx_pydot.to_pydot(G)\n",
    "G_.set('rankdir', 'LR')\n",
    "SVG(G_.create_svg())"
   ]
  },
  {
   "cell_type": "code",
   "execution_count": null,
   "id": "be9c27b8",
   "metadata": {},
   "outputs": [],
   "source": [
    "B = np.array([[0, 2],\n",
    "              [2, 0]])\n",
    "# np.linalg.matrix_power(B, 2)\n",
    "# np.apply_over_axes(lambda x: x**2, B, [])\n",
    "B[0] = [2, 3]\n",
    "B"
   ]
  },
  {
   "cell_type": "code",
   "execution_count": null,
   "id": "6aa21b4b",
   "metadata": {},
   "outputs": [],
   "source": [
    "interact(f, Median_Size=widgets.IntSlider(min=1,max=21,step=2,value=1)) "
   ]
  },
  {
   "cell_type": "code",
   "execution_count": null,
   "id": "cbe00fd4",
   "metadata": {},
   "outputs": [],
   "source": [
    "\n",
    "\n",
    "\n",
    "\n",
    "\n",
    "\n",
    "\n",
    "\n",
    "\n",
    "\n",
    "\n",
    "\n",
    "\n",
    "\n"
   ]
  }
 ],
 "metadata": {
  "kernelspec": {
   "display_name": "Python 3",
   "language": "python",
   "name": "python3"
  },
  "language_info": {
   "codemirror_mode": {
    "name": "ipython",
    "version": 3
   },
   "file_extension": ".py",
   "mimetype": "text/x-python",
   "name": "python",
   "nbconvert_exporter": "python",
   "pygments_lexer": "ipython3",
   "version": "3.9.6"
  }
 },
 "nbformat": 4,
 "nbformat_minor": 5
}
