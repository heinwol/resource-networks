{
 "cells": [
  {
   "cell_type": "code",
   "execution_count": 1,
   "id": "bcebb118",
   "metadata": {},
   "outputs": [],
   "source": [
    "%load_ext autoreload\n",
    "%autoreload 1\n",
    "%aimport resource_networks\n",
    "%aimport network_manipulation \n",
    "\n",
    "\n",
    "from resource_networks import *\n",
    "from network_manipulation import *\n",
    "\n",
    "import matplotlib.pyplot as plt\n",
    "plt.rcParams[\"figure.figsize\"] = (10, 7)\n",
    "plt.rcParams[\"axes.grid\"] = True\n",
    "plt.rcParams[\"font.size\"] = 12\n",
    "%matplotlib inline\n",
    "\n",
    "import scipy\n",
    "import cairosvg\n",
    "import imageio\n",
    "\n",
    "# import plotly.graph_objs as go\n",
    "# import plotly.express as px"
   ]
  },
  {
   "cell_type": "code",
   "execution_count": 2,
   "id": "2c9c4c72",
   "metadata": {},
   "outputs": [],
   "source": [
    "from scipy.linalg import null_space"
   ]
  },
  {
   "cell_type": "code",
   "execution_count": 3,
   "id": "1c8b1ac9",
   "metadata": {},
   "outputs": [
    {
     "data": {
      "text/html": [
       "<style>\n",
       "/* Any CSS style can go in here. */\n",
       ".dataframe th {\n",
       "    font-size: 14px;\n",
       "}\n",
       ".dataframe td {\n",
       "    font-size: 14px;\n",
       "}\n",
       "</style>\n"
      ],
      "text/plain": [
       "<IPython.core.display.HTML object>"
      ]
     },
     "metadata": {},
     "output_type": "display_data"
    }
   ],
   "source": [
    "%%html\n",
    "<style>\n",
    "/* Any CSS style can go in here. */\n",
    ".dataframe th {\n",
    "    font-size: 14px;\n",
    "}\n",
    ".dataframe td {\n",
    "    font-size: 14px;\n",
    "}\n",
    "</style>\n"
   ]
  },
  {
   "cell_type": "code",
   "execution_count": 15,
   "id": "077bf32f",
   "metadata": {},
   "outputs": [
    {
     "data": {
      "text/plain": [
       "array([False, False,  True])"
      ]
     },
     "execution_count": 15,
     "metadata": {},
     "output_type": "execute_result"
    }
   ],
   "source": [
    "np.isclose(np.array([1, 2, 0.00000000001]), 0)"
   ]
  },
  {
   "cell_type": "code",
   "execution_count": 29,
   "id": "6b517186",
   "metadata": {},
   "outputs": [
    {
     "data": {
      "text/plain": [
       "array([[1, 2],\n",
       "       [6, 8]])"
      ]
     },
     "execution_count": 29,
     "metadata": {},
     "output_type": "execute_result"
    }
   ],
   "source": [
    "np.array([1, 2]).reshape((-1, 1))*np.array([[1, 2], [3, 4]])"
   ]
  },
  {
   "cell_type": "code",
   "execution_count": 37,
   "id": "ecadc9c7",
   "metadata": {},
   "outputs": [
    {
     "name": "stdout",
     "output_type": "stream",
     "text": [
      "[[0. 1. 0.]\n",
      " [0. 0. 1.]\n",
      " [1. 0. 0.]]\n"
     ]
    },
    {
     "data": {
      "application/vnd.jupyter.widget-view+json": {
       "model_id": "1d091a5141a44bfdacb2a5ba754be039",
       "version_major": 2,
       "version_minor": 0
      },
      "text/plain": [
       "interactive(children=(IntSlider(value=0, description='№ of iteration', max=39), Output()), _dom_classes=('widg…"
      ]
     },
     "metadata": {},
     "output_type": "display_data"
    }
   ],
   "source": [
    "n = 3\n",
    "G2 = ResourceDiGraph(nx.fast_gnp_random_graph(n, 0.4, directed=True))\n",
    "sim = G2.run_simulation(np.random.randint(10, 13, size=n), 40)\n",
    "plot_simulation(G2, sim)\n",
    "# sim.arr"
   ]
  },
  {
   "cell_type": "code",
   "execution_count": 17,
   "id": "5fa9eb02",
   "metadata": {},
   "outputs": [
    {
     "data": {
      "text/plain": [
       "True"
      ]
     },
     "execution_count": 17,
     "metadata": {},
     "output_type": "execute_result"
    }
   ],
   "source": [
    "np.inf == np.inf"
   ]
  },
  {
   "cell_type": "code",
   "execution_count": 9,
   "id": "7dd846cf",
   "metadata": {
    "scrolled": false
   },
   "outputs": [
    {
     "data": {
      "application/vnd.jupyter.widget-view+json": {
       "model_id": "0f98416fb89e4d0a94c129e024879a06",
       "version_major": 2,
       "version_minor": 0
      },
      "text/plain": [
       "interactive(children=(IntSlider(value=0, description='№ of iteration', max=149), Output()), _dom_classes=('wid…"
      ]
     },
     "metadata": {},
     "output_type": "display_data"
    }
   ],
   "source": [
    "sim = G2.run_simulation([10, 10, 10, 10], 150)\n",
    "plot_simulation(G2, sim)"
   ]
  },
  {
   "cell_type": "code",
   "execution_count": 10,
   "id": "23566ec7",
   "metadata": {},
   "outputs": [
    {
     "data": {
      "text/plain": [
       "array([[0, 3, 1, 0],\n",
       "       [4, 0, 1, 7],\n",
       "       [0, 0, 0, 1],\n",
       "       [0, 0, 0, 0]])"
      ]
     },
     "execution_count": 10,
     "metadata": {},
     "output_type": "execute_result"
    }
   ],
   "source": [
    "nx.to_numpy_array(G2.G, dtype=int)[[0, 2, 1, 3]][:, [0, 2, 1, 3]]"
   ]
  },
  {
   "cell_type": "code",
   "execution_count": 11,
   "id": "2bfb6288",
   "metadata": {},
   "outputs": [
    {
     "data": {
      "application/vnd.jupyter.widget-view+json": {
       "model_id": "fe50f48e0cda4f9d96ef892191f7b09b",
       "version_major": 2,
       "version_minor": 0
      },
      "text/plain": [
       "interactive(children=(IntSlider(value=0, description='№ of iteration', max=199), Output()), _dom_classes=('wid…"
      ]
     },
     "metadata": {},
     "output_type": "display_data"
    }
   ],
   "source": [
    "ig = np.array([\n",
    "       [0, 0, 2, 0], #если заменить 2 на 1, то аттрактором станет другая вершина!\n",
    "       [0, 0, 0, 4], \n",
    "       [3, 2, 0, 0],\n",
    "       [1, 5, 0, 0]])\n",
    "interesting_graph = ResourceDiGraph(nx.from_numpy_array(\n",
    "    ig,\n",
    "    create_using=nx.DiGraph))\n",
    "sim = interesting_graph.run_simulation([20, 10, 6, 12], 200)\n",
    "plot_simulation(interesting_graph, sim)"
   ]
  },
  {
   "cell_type": "markdown",
   "id": "c7e534ee",
   "metadata": {},
   "source": [
    "import pickle\n",
    "with open('interesting_networks/long_transfer.pickle', 'wb') as f:\n",
    "    pickle.dump(G2, f)\n",
    "\n",
    "with open('interesting_networks/long_transfer.pickle', 'rb') as f:\n",
    "    some_network = pickle.load(f)"
   ]
  },
  {
   "cell_type": "code",
   "execution_count": 10,
   "id": "b5af8a87",
   "metadata": {},
   "outputs": [
    {
     "data": {
      "application/vnd.jupyter.widget-view+json": {
       "model_id": "3c073db8d15f41d995af0a937d335d6f",
       "version_major": 2,
       "version_minor": 0
      },
      "text/plain": [
       "interactive(children=(IntSlider(value=0, description='№ of iteration', max=31), Output()), _dom_classes=('widg…"
      ]
     },
     "metadata": {},
     "output_type": "display_data"
    }
   ],
   "source": [
    "M = np.array([\n",
    "    [1, 1, 1, 1, 1],\n",
    "    [1, 1, 1, 1, 1],\n",
    "    [3, 1, 1, 1, 1],\n",
    "    [4, 1, 1, 1, 1],\n",
    "    [5, 1, 1, 1, 1]\n",
    "])\n",
    "G = ResourceDiGraph(nx.from_numpy_matrix(M, create_using=nx.DiGraph))\n",
    "sim = G.run_simulation([0, 40, 0, 0, 0], 32)\n",
    "plot_simulation(G, sim, scale=1.5)"
   ]
  },
  {
   "cell_type": "code",
   "execution_count": 11,
   "id": "202869c7",
   "metadata": {},
   "outputs": [
    {
     "data": {
      "text/plain": [
       "array([[0.2       , 0.2       , 0.2       , 0.2       , 0.2       ],\n",
       "       [0.2       , 0.2       , 0.2       , 0.2       , 0.2       ],\n",
       "       [0.42857143, 0.14285714, 0.14285714, 0.14285714, 0.14285714],\n",
       "       [0.5       , 0.125     , 0.125     , 0.125     , 0.125     ],\n",
       "       [0.55555556, 0.11111111, 0.11111111, 0.11111111, 0.11111111]])"
      ]
     },
     "execution_count": 11,
     "metadata": {},
     "output_type": "execute_result"
    }
   ],
   "source": [
    "G.stochastic_matrix()"
   ]
  },
  {
   "cell_type": "markdown",
   "id": "7ae774a8",
   "metadata": {},
   "source": [
    "### Simple network"
   ]
  },
  {
   "cell_type": "code",
   "execution_count": 9,
   "id": "0a536be8",
   "metadata": {},
   "outputs": [],
   "source": [
    "G_ = ResourceDiGraph(nx.from_numpy_array(np.array([\n",
    "    [0, 1, 0],\n",
    "    [0, 0, 2],\n",
    "    [3, 0, 0]\n",
    "]), create_using=nx.DiGraph))\n",
    "with open('/home/heinwol/Documents/WinDocs/work/ipu/report 01.02.22/3.svg', 'w') as f:\n",
    "    f.write(G_.plot().data)"
   ]
  },
  {
   "cell_type": "code",
   "execution_count": 2,
   "id": "0c84cac1",
   "metadata": {},
   "outputs": [
    {
     "data": {
      "image/svg+xml": [
       "<svg xmlns=\"http://www.w3.org/2000/svg\" xmlns:xlink=\"http://www.w3.org/1999/xlink\" width=\"185pt\" height=\"150pt\" viewBox=\"0.00 0.00 184.75 150.09\">\n",
       "<g id=\"graph0\" class=\"graph\" transform=\"scale(1 1) rotate(0) translate(4 146.09)\">\n",
       "<polygon fill=\"white\" stroke=\"transparent\" points=\"-4,4 -4,-146.09 180.75,-146.09 180.75,4 -4,4\"/>\n",
       "<!-- 0 -->\n",
       "<g id=\"node1\" class=\"node\">\n",
       "<title>0</title>\n",
       "<ellipse fill=\"none\" stroke=\"black\" cx=\"27\" cy=\"-123.29\" rx=\"27\" ry=\"18\"/>\n",
       "<text text-anchor=\"middle\" x=\"27\" y=\"-119.59\" font-family=\"Times,serif\" font-size=\"14.00\">0</text>\n",
       "</g>\n",
       "<!-- 1 -->\n",
       "<g id=\"node2\" class=\"node\">\n",
       "<title>1</title>\n",
       "<ellipse fill=\"none\" stroke=\"black\" cx=\"149.75\" cy=\"-124.09\" rx=\"27\" ry=\"18\"/>\n",
       "<text text-anchor=\"middle\" x=\"149.75\" y=\"-120.39\" font-family=\"Times,serif\" font-size=\"14.00\">1</text>\n",
       "</g>\n",
       "<!-- 0&#45;&gt;1 -->\n",
       "<g id=\"edge1\" class=\"edge\">\n",
       "<title>0-&gt;1</title>\n",
       "<path fill=\"none\" stroke=\"black\" d=\"M54.24,-123.47C71.41,-123.58 93.79,-123.73 112.58,-123.85\"/>\n",
       "<polygon fill=\"black\" stroke=\"black\" points=\"112.56,-127.35 122.58,-123.91 112.61,-120.35 112.56,-127.35\"/>\n",
       "<text text-anchor=\"middle\" x=\"78.41\" y=\"-127.46\" font-family=\"Times,serif\" font-size=\"14.00\">1</text>\n",
       "</g>\n",
       "<!-- 2 -->\n",
       "<g id=\"node3\" class=\"node\">\n",
       "<title>2</title>\n",
       "<ellipse fill=\"none\" stroke=\"black\" cx=\"89.21\" cy=\"-18\" rx=\"27\" ry=\"18\"/>\n",
       "<text text-anchor=\"middle\" x=\"89.21\" y=\"-14.3\" font-family=\"Times,serif\" font-size=\"14.00\">2</text>\n",
       "</g>\n",
       "<!-- 0&#45;&gt;2 -->\n",
       "<g id=\"edge2\" class=\"edge\">\n",
       "<title>0-&gt;2</title>\n",
       "<path fill=\"none\" stroke=\"black\" d=\"M42.04,-108.08C53.87,-91.67 69.67,-65.3 79.81,-45.3\"/>\n",
       "<polygon fill=\"black\" stroke=\"black\" points=\"83.07,-46.59 84.29,-36.06 76.78,-43.53 83.07,-46.59\"/>\n",
       "<text text-anchor=\"middle\" x=\"55.93\" y=\"-80.49\" font-family=\"Times,serif\" font-size=\"14.00\">2</text>\n",
       "</g>\n",
       "<!-- 1&#45;&gt;2 -->\n",
       "<g id=\"edge3\" class=\"edge\">\n",
       "<title>1-&gt;2</title>\n",
       "<path fill=\"none\" stroke=\"black\" d=\"M140.02,-107.05C130.27,-89.96 115.13,-63.42 103.91,-43.76\"/>\n",
       "<polygon fill=\"black\" stroke=\"black\" points=\"106.91,-41.95 98.91,-35 100.83,-45.42 106.91,-41.95\"/>\n",
       "<text text-anchor=\"middle\" x=\"116.97\" y=\"-79.21\" font-family=\"Times,serif\" font-size=\"14.00\">1</text>\n",
       "</g>\n",
       "<!-- 2&#45;&gt;0 -->\n",
       "<g id=\"edge4\" class=\"edge\">\n",
       "<title>2-&gt;0</title>\n",
       "<path fill=\"none\" stroke=\"black\" d=\"M74.16,-33.21C62.34,-49.62 46.54,-75.98 36.4,-95.99\"/>\n",
       "<polygon fill=\"black\" stroke=\"black\" points=\"33.13,-94.7 31.92,-105.22 39.43,-97.76 33.13,-94.7\"/>\n",
       "<text text-anchor=\"middle\" x=\"50.28\" y=\"-53.4\" font-family=\"Times,serif\" font-size=\"14.00\">1</text>\n",
       "</g>\n",
       "</g>\n",
       "</svg>"
      ],
      "text/plain": [
       "<IPython.core.display.SVG object>"
      ]
     },
     "execution_count": 2,
     "metadata": {},
     "output_type": "execute_result"
    }
   ],
   "source": [
    "G = ResourceDiGraph(nx.from_numpy_array(np.array([\n",
    "    [0, 1, 2],\n",
    "    [0, 0, 1],\n",
    "    [1, 0, 0]\n",
    "]), create_using=nx.DiGraph))\n",
    "G.plot()"
   ]
  },
  {
   "cell_type": "code",
   "execution_count": 107,
   "id": "91079502",
   "metadata": {
    "scrolled": false
   },
   "outputs": [
    {
     "data": {
      "application/vnd.jupyter.widget-view+json": {
       "model_id": "7fae98876bd74cf9a47a5a14b3d86111",
       "version_major": 2,
       "version_minor": 0
      },
      "text/plain": [
       "interactive(children=(IntSlider(value=0, description='№ of iteration', max=25), Output()), _dom_classes=('widg…"
      ]
     },
     "metadata": {},
     "output_type": "display_data"
    }
   ],
   "source": [
    "G = ResourceDiGraphWithIncome(nx.from_numpy_array(np.array([\n",
    "    [0, 4, 5],\n",
    "    [0, 0, 4],\n",
    "    [3, 0, 0]\n",
    "]), create_using=nx.DiGraph))\n",
    "sim = G.run_simulation([0, 20, 0], 26)\n",
    "plot_simulation(G, sim)"
   ]
  },
  {
   "cell_type": "code",
   "execution_count": 159,
   "id": "c1b6de1e",
   "metadata": {
    "scrolled": false
   },
   "outputs": [
    {
     "data": {
      "application/vnd.jupyter.widget-view+json": {
       "model_id": "1e8d16cb8f074c82a6798b4f7c1a10c5",
       "version_major": 2,
       "version_minor": 0
      },
      "text/plain": [
       "interactive(children=(IntSlider(value=0, description='№ of iteration', max=49), Output()), _dom_classes=('widg…"
      ]
     },
     "metadata": {},
     "output_type": "display_data"
    }
   ],
   "source": [
    "G2 = ResourceDiGraphWithIncome(nx.from_numpy_array(np.array([\n",
    "    [0, 4, 5],\n",
    "    [0, 0, 6],\n",
    "    [10, 0, 0]\n",
    "]), create_using=nx.DiGraph))\n",
    "sim = G2.run_simulation([0, 30, 0], 50)\n",
    "plot_simulation(G2, sim)"
   ]
  },
  {
   "cell_type": "code",
   "execution_count": 156,
   "id": "1f2dc0cd",
   "metadata": {},
   "outputs": [
    {
     "data": {
      "text/plain": [
       "22.0"
      ]
     },
     "execution_count": 156,
     "metadata": {},
     "output_type": "execute_result"
    }
   ],
   "source": [
    "G2.T()"
   ]
  },
  {
   "cell_type": "code",
   "execution_count": 131,
   "id": "27e65013",
   "metadata": {},
   "outputs": [
    {
     "data": {
      "text/plain": [
       "array([22.        , 33.        , 24.44444444])"
      ]
     },
     "execution_count": 131,
     "metadata": {},
     "output_type": "execute_result"
    }
   ],
   "source": [
    "G2.r_out() / G2.one_limit_state()"
   ]
  },
  {
   "cell_type": "code",
   "execution_count": 158,
   "id": "4c8788bb",
   "metadata": {},
   "outputs": [
    {
     "data": {
      "text/plain": [
       "(array([ 9,  6, 10]), array([0.40909091, 0.18181818, 0.40909091]))"
      ]
     },
     "execution_count": 158,
     "metadata": {},
     "output_type": "execute_result"
    }
   ],
   "source": [
    "G2.r_out(), G2.one_limit_state()"
   ]
  },
  {
   "cell_type": "code",
   "execution_count": 50,
   "id": "a7f839be",
   "metadata": {},
   "outputs": [],
   "source": [
    "import io"
   ]
  },
  {
   "cell_type": "code",
   "execution_count": 51,
   "id": "f6d9cd3e",
   "metadata": {},
   "outputs": [],
   "source": [
    "f = io.StringIO('test')"
   ]
  },
  {
   "cell_type": "code",
   "execution_count": 59,
   "id": "8917b390",
   "metadata": {},
   "outputs": [],
   "source": [
    "plotted = G.plot_with_states(sim)[0]"
   ]
  },
  {
   "cell_type": "code",
   "execution_count": null,
   "id": "7fd04d46",
   "metadata": {},
   "outputs": [],
   "source": [
    "# writer.append_data()"
   ]
  },
  {
   "cell_type": "code",
   "execution_count": 88,
   "id": "0dc59320",
   "metadata": {},
   "outputs": [],
   "source": [
    "path = '/home/heinwol/Documents/WinDocs/work/9_sem/nir_resource1/presentation/data/'\n",
    "arr = []\n",
    "# writer = imageio.get_writer(path + 'test2.mp4', format='FFMPEG', mode='I', fps=1)\n",
    "for i, it in enumerate(G.plot_with_states(sim)):\n",
    "    cairosvg.svg2png(bytestring=it.data, write_to= path + 'temp.png', dpi=200)\n",
    "    arr.append(imageio.imread(path + 'temp.png'))\n",
    "#     writer.append_data(imageio.imread(path + 'temp.png'))\n",
    "imageio.mimsave(path + 'second.gif', arr, fps=1)\n",
    "# writer.close()\n",
    "# cairosvg.svg2png(bytestring=it.data, write_to= path + f'first-{i}.png')"
   ]
  },
  {
   "cell_type": "code",
   "execution_count": 41,
   "id": "a7d5f6a0",
   "metadata": {},
   "outputs": [],
   "source": [
    "with open('/home/heinwol/Documents/WinDocs/work/9_sem/nir_resource1/data/example1-4.svg', 'w') as f:\n",
    "    f.write(G.plot_with_states(sim)[-1].data)"
   ]
  },
  {
   "cell_type": "code",
   "execution_count": 42,
   "id": "d6bd9ee8",
   "metadata": {},
   "outputs": [
    {
     "name": "stdout",
     "output_type": "stream",
     "text": [
      "\\begin{tabular}{lrrr}\n",
      "\\toprule\n",
      "{} &         0 &         1 &         2 \\\\\n",
      "t  &           &           &           \\\\\n",
      "\\midrule\n",
      "0  &  0.000000 &  0.000000 &  0.000000 \\\\\n",
      "1  &  0.500000 &  0.500000 &  0.500000 \\\\\n",
      "2  &  0.750000 &  0.472222 &  1.027778 \\\\\n",
      "3  &  1.152778 &  0.458333 &  1.013889 \\\\\n",
      "4  &  1.076389 &  0.574846 &  1.161265 \\\\\n",
      "5  &  1.192515 &  0.509645 &  1.204090 \\\\\n",
      "6  &  1.219715 &  0.545632 &  1.187779 \\\\\n",
      "7  &  1.195591 &  0.549908 &  1.231064 \\\\\n",
      "8  &  1.234970 &  0.535280 &  1.218031 \\\\\n",
      "9  &  1.219985 &  0.550829 &  1.223328 \\\\\n",
      "10 &  1.224304 &  0.543192 &  1.229574 \\\\\n",
      "11 &  1.230063 &  0.544623 &  1.223849 \\\\\n",
      "12 &  1.224093 &  0.546939 &  1.228236 \\\\\n",
      "13 &  1.228358 &  0.544164 &  1.227113 \\\\\n",
      "14 &  1.227174 &  0.545998 &  1.226646 \\\\\n",
      "15 &  1.226676 &  0.545441 &  1.227791 \\\\\n",
      "16 &  1.227807 &  0.545205 &  1.226943 \\\\\n",
      "17 &  1.226951 &  0.545699 &  1.227327 \\\\\n",
      "18 &  1.227331 &  0.545315 &  1.227343 \\\\\n",
      "19 &  1.227344 &  0.545482 &  1.227168 \\\\\n",
      "20 &  1.227169 &  0.545487 &  1.227341 \\\\\n",
      "21 &  1.227342 &  0.545409 &  1.227248 \\\\\n",
      "22 &  1.227248 &  0.545485 &  1.227265 \\\\\n",
      "23 &  1.227266 &  0.545444 &  1.227290 \\\\\n",
      "24 &  1.227290 &  0.545451 &  1.227258 \\\\\n",
      "25 &  1.227258 &  0.545462 &  1.227279 \\\\\n",
      "\\bottomrule\n",
      "\\end{tabular}\n",
      "\n"
     ]
    }
   ],
   "source": [
    "print(simple_protocol(sim).to_latex())"
   ]
  },
  {
   "cell_type": "code",
   "execution_count": 13,
   "id": "703e0eeb",
   "metadata": {},
   "outputs": [
    {
     "data": {
      "text/plain": [
       "array([[-0.6882472 ],\n",
       "       [-0.22941573],\n",
       "       [-0.6882472 ]])"
      ]
     },
     "execution_count": 13,
     "metadata": {},
     "output_type": "execute_result"
    }
   ],
   "source": [
    "null_space((G.stochastic_matrix() - np.eye(3)).T)"
   ]
  },
  {
   "cell_type": "code",
   "execution_count": 14,
   "id": "342b4304",
   "metadata": {},
   "outputs": [
    {
     "data": {
      "application/vnd.jupyter.widget-view+json": {
       "model_id": "6036dc5283f34e24a04258ddd3e93362",
       "version_major": 2,
       "version_minor": 0
      },
      "text/plain": [
       "interactive(children=(IntSlider(value=0, description='№ of iteration', max=39), Output()), _dom_classes=('widg…"
      ]
     },
     "metadata": {},
     "output_type": "display_data"
    }
   ],
   "source": [
    "sim = G.run_simulation([1, 0, 0], 40)\n",
    "plot_simulation(G, sim)"
   ]
  },
  {
   "cell_type": "code",
   "execution_count": 15,
   "id": "2cc756d0",
   "metadata": {},
   "outputs": [
    {
     "data": {
      "text/html": [
       "<div>\n",
       "<style scoped>\n",
       "    .dataframe tbody tr th:only-of-type {\n",
       "        vertical-align: middle;\n",
       "    }\n",
       "\n",
       "    .dataframe tbody tr th {\n",
       "        vertical-align: top;\n",
       "    }\n",
       "\n",
       "    .dataframe thead th {\n",
       "        text-align: right;\n",
       "    }\n",
       "</style>\n",
       "<table border=\"1\" class=\"dataframe\">\n",
       "  <thead>\n",
       "    <tr style=\"text-align: right;\">\n",
       "      <th></th>\n",
       "      <th>0</th>\n",
       "      <th>1</th>\n",
       "      <th>2</th>\n",
       "    </tr>\n",
       "    <tr>\n",
       "      <th>t</th>\n",
       "      <th></th>\n",
       "      <th></th>\n",
       "      <th></th>\n",
       "    </tr>\n",
       "  </thead>\n",
       "  <tbody>\n",
       "    <tr>\n",
       "      <th>0</th>\n",
       "      <td>1.000000</td>\n",
       "      <td>0.000000</td>\n",
       "      <td>0.000000</td>\n",
       "    </tr>\n",
       "    <tr>\n",
       "      <th>1</th>\n",
       "      <td>0.000000</td>\n",
       "      <td>0.333333</td>\n",
       "      <td>0.666667</td>\n",
       "    </tr>\n",
       "    <tr>\n",
       "      <th>2</th>\n",
       "      <td>0.666667</td>\n",
       "      <td>0.000000</td>\n",
       "      <td>0.333333</td>\n",
       "    </tr>\n",
       "    <tr>\n",
       "      <th>3</th>\n",
       "      <td>0.333333</td>\n",
       "      <td>0.222222</td>\n",
       "      <td>0.444444</td>\n",
       "    </tr>\n",
       "    <tr>\n",
       "      <th>4</th>\n",
       "      <td>0.444444</td>\n",
       "      <td>0.111111</td>\n",
       "      <td>0.444444</td>\n",
       "    </tr>\n",
       "    <tr>\n",
       "      <th>5</th>\n",
       "      <td>0.444444</td>\n",
       "      <td>0.148148</td>\n",
       "      <td>0.407407</td>\n",
       "    </tr>\n",
       "    <tr>\n",
       "      <th>6</th>\n",
       "      <td>0.407407</td>\n",
       "      <td>0.148148</td>\n",
       "      <td>0.444444</td>\n",
       "    </tr>\n",
       "    <tr>\n",
       "      <th>7</th>\n",
       "      <td>0.444444</td>\n",
       "      <td>0.135802</td>\n",
       "      <td>0.419753</td>\n",
       "    </tr>\n",
       "    <tr>\n",
       "      <th>8</th>\n",
       "      <td>0.419753</td>\n",
       "      <td>0.148148</td>\n",
       "      <td>0.432099</td>\n",
       "    </tr>\n",
       "    <tr>\n",
       "      <th>9</th>\n",
       "      <td>0.432099</td>\n",
       "      <td>0.139918</td>\n",
       "      <td>0.427984</td>\n",
       "    </tr>\n",
       "    <tr>\n",
       "      <th>10</th>\n",
       "      <td>0.427984</td>\n",
       "      <td>0.144033</td>\n",
       "      <td>0.427984</td>\n",
       "    </tr>\n",
       "    <tr>\n",
       "      <th>11</th>\n",
       "      <td>0.427984</td>\n",
       "      <td>0.142661</td>\n",
       "      <td>0.429355</td>\n",
       "    </tr>\n",
       "    <tr>\n",
       "      <th>12</th>\n",
       "      <td>0.429355</td>\n",
       "      <td>0.142661</td>\n",
       "      <td>0.427984</td>\n",
       "    </tr>\n",
       "    <tr>\n",
       "      <th>13</th>\n",
       "      <td>0.427984</td>\n",
       "      <td>0.143118</td>\n",
       "      <td>0.428898</td>\n",
       "    </tr>\n",
       "    <tr>\n",
       "      <th>14</th>\n",
       "      <td>0.428898</td>\n",
       "      <td>0.142661</td>\n",
       "      <td>0.428441</td>\n",
       "    </tr>\n",
       "    <tr>\n",
       "      <th>15</th>\n",
       "      <td>0.428441</td>\n",
       "      <td>0.142966</td>\n",
       "      <td>0.428593</td>\n",
       "    </tr>\n",
       "    <tr>\n",
       "      <th>16</th>\n",
       "      <td>0.428593</td>\n",
       "      <td>0.142814</td>\n",
       "      <td>0.428593</td>\n",
       "    </tr>\n",
       "    <tr>\n",
       "      <th>17</th>\n",
       "      <td>0.428593</td>\n",
       "      <td>0.142864</td>\n",
       "      <td>0.428542</td>\n",
       "    </tr>\n",
       "    <tr>\n",
       "      <th>18</th>\n",
       "      <td>0.428542</td>\n",
       "      <td>0.142864</td>\n",
       "      <td>0.428593</td>\n",
       "    </tr>\n",
       "    <tr>\n",
       "      <th>19</th>\n",
       "      <td>0.428593</td>\n",
       "      <td>0.142847</td>\n",
       "      <td>0.428559</td>\n",
       "    </tr>\n",
       "    <tr>\n",
       "      <th>20</th>\n",
       "      <td>0.428559</td>\n",
       "      <td>0.142864</td>\n",
       "      <td>0.428576</td>\n",
       "    </tr>\n",
       "    <tr>\n",
       "      <th>21</th>\n",
       "      <td>0.428576</td>\n",
       "      <td>0.142853</td>\n",
       "      <td>0.428571</td>\n",
       "    </tr>\n",
       "    <tr>\n",
       "      <th>22</th>\n",
       "      <td>0.428571</td>\n",
       "      <td>0.142859</td>\n",
       "      <td>0.428571</td>\n",
       "    </tr>\n",
       "    <tr>\n",
       "      <th>23</th>\n",
       "      <td>0.428571</td>\n",
       "      <td>0.142857</td>\n",
       "      <td>0.428573</td>\n",
       "    </tr>\n",
       "    <tr>\n",
       "      <th>24</th>\n",
       "      <td>0.428573</td>\n",
       "      <td>0.142857</td>\n",
       "      <td>0.428571</td>\n",
       "    </tr>\n",
       "    <tr>\n",
       "      <th>25</th>\n",
       "      <td>0.428571</td>\n",
       "      <td>0.142858</td>\n",
       "      <td>0.428572</td>\n",
       "    </tr>\n",
       "    <tr>\n",
       "      <th>26</th>\n",
       "      <td>0.428572</td>\n",
       "      <td>0.142857</td>\n",
       "      <td>0.428571</td>\n",
       "    </tr>\n",
       "    <tr>\n",
       "      <th>27</th>\n",
       "      <td>0.428571</td>\n",
       "      <td>0.142857</td>\n",
       "      <td>0.428571</td>\n",
       "    </tr>\n",
       "    <tr>\n",
       "      <th>28</th>\n",
       "      <td>0.428571</td>\n",
       "      <td>0.142857</td>\n",
       "      <td>0.428571</td>\n",
       "    </tr>\n",
       "    <tr>\n",
       "      <th>29</th>\n",
       "      <td>0.428571</td>\n",
       "      <td>0.142857</td>\n",
       "      <td>0.428571</td>\n",
       "    </tr>\n",
       "    <tr>\n",
       "      <th>30</th>\n",
       "      <td>0.428571</td>\n",
       "      <td>0.142857</td>\n",
       "      <td>0.428571</td>\n",
       "    </tr>\n",
       "    <tr>\n",
       "      <th>31</th>\n",
       "      <td>0.428571</td>\n",
       "      <td>0.142857</td>\n",
       "      <td>0.428571</td>\n",
       "    </tr>\n",
       "    <tr>\n",
       "      <th>32</th>\n",
       "      <td>0.428571</td>\n",
       "      <td>0.142857</td>\n",
       "      <td>0.428571</td>\n",
       "    </tr>\n",
       "    <tr>\n",
       "      <th>33</th>\n",
       "      <td>0.428571</td>\n",
       "      <td>0.142857</td>\n",
       "      <td>0.428571</td>\n",
       "    </tr>\n",
       "    <tr>\n",
       "      <th>34</th>\n",
       "      <td>0.428571</td>\n",
       "      <td>0.142857</td>\n",
       "      <td>0.428571</td>\n",
       "    </tr>\n",
       "    <tr>\n",
       "      <th>35</th>\n",
       "      <td>0.428571</td>\n",
       "      <td>0.142857</td>\n",
       "      <td>0.428571</td>\n",
       "    </tr>\n",
       "    <tr>\n",
       "      <th>36</th>\n",
       "      <td>0.428571</td>\n",
       "      <td>0.142857</td>\n",
       "      <td>0.428571</td>\n",
       "    </tr>\n",
       "    <tr>\n",
       "      <th>37</th>\n",
       "      <td>0.428571</td>\n",
       "      <td>0.142857</td>\n",
       "      <td>0.428571</td>\n",
       "    </tr>\n",
       "    <tr>\n",
       "      <th>38</th>\n",
       "      <td>0.428571</td>\n",
       "      <td>0.142857</td>\n",
       "      <td>0.428571</td>\n",
       "    </tr>\n",
       "    <tr>\n",
       "      <th>39</th>\n",
       "      <td>0.428571</td>\n",
       "      <td>0.142857</td>\n",
       "      <td>0.428571</td>\n",
       "    </tr>\n",
       "  </tbody>\n",
       "</table>\n",
       "</div>"
      ],
      "text/plain": [
       "           0         1         2\n",
       "t                               \n",
       "0   1.000000  0.000000  0.000000\n",
       "1   0.000000  0.333333  0.666667\n",
       "2   0.666667  0.000000  0.333333\n",
       "3   0.333333  0.222222  0.444444\n",
       "4   0.444444  0.111111  0.444444\n",
       "5   0.444444  0.148148  0.407407\n",
       "6   0.407407  0.148148  0.444444\n",
       "7   0.444444  0.135802  0.419753\n",
       "8   0.419753  0.148148  0.432099\n",
       "9   0.432099  0.139918  0.427984\n",
       "10  0.427984  0.144033  0.427984\n",
       "11  0.427984  0.142661  0.429355\n",
       "12  0.429355  0.142661  0.427984\n",
       "13  0.427984  0.143118  0.428898\n",
       "14  0.428898  0.142661  0.428441\n",
       "15  0.428441  0.142966  0.428593\n",
       "16  0.428593  0.142814  0.428593\n",
       "17  0.428593  0.142864  0.428542\n",
       "18  0.428542  0.142864  0.428593\n",
       "19  0.428593  0.142847  0.428559\n",
       "20  0.428559  0.142864  0.428576\n",
       "21  0.428576  0.142853  0.428571\n",
       "22  0.428571  0.142859  0.428571\n",
       "23  0.428571  0.142857  0.428573\n",
       "24  0.428573  0.142857  0.428571\n",
       "25  0.428571  0.142858  0.428572\n",
       "26  0.428572  0.142857  0.428571\n",
       "27  0.428571  0.142857  0.428571\n",
       "28  0.428571  0.142857  0.428571\n",
       "29  0.428571  0.142857  0.428571\n",
       "30  0.428571  0.142857  0.428571\n",
       "31  0.428571  0.142857  0.428571\n",
       "32  0.428571  0.142857  0.428571\n",
       "33  0.428571  0.142857  0.428571\n",
       "34  0.428571  0.142857  0.428571\n",
       "35  0.428571  0.142857  0.428571\n",
       "36  0.428571  0.142857  0.428571\n",
       "37  0.428571  0.142857  0.428571\n",
       "38  0.428571  0.142857  0.428571\n",
       "39  0.428571  0.142857  0.428571"
      ]
     },
     "execution_count": 15,
     "metadata": {},
     "output_type": "execute_result"
    }
   ],
   "source": [
    "prot = simple_protocol(sim)\n",
    "# prot.diff().abs().sum(axis=1).diff()\n",
    "prot"
   ]
  },
  {
   "cell_type": "markdown",
   "id": "452ec16a",
   "metadata": {},
   "source": [
    "---"
   ]
  },
  {
   "cell_type": "code",
   "execution_count": null,
   "id": "a8224da9",
   "metadata": {},
   "outputs": [],
   "source": []
  },
  {
   "cell_type": "markdown",
   "id": "5a428582",
   "metadata": {},
   "source": [
    "---"
   ]
  },
  {
   "cell_type": "code",
   "execution_count": null,
   "id": "cbe00fd4",
   "metadata": {},
   "outputs": [],
   "source": [
    "\n",
    "\n",
    "\n",
    "\n",
    "\n",
    "\n",
    "\n",
    "\n",
    "\n",
    "\n",
    "\n",
    "\n",
    "\n",
    "\n"
   ]
  }
 ],
 "metadata": {
  "kernelspec": {
   "display_name": "Python 3 (ipykernel)",
   "language": "python",
   "name": "python3"
  },
  "language_info": {
   "codemirror_mode": {
    "name": "ipython",
    "version": 3
   },
   "file_extension": ".py",
   "mimetype": "text/x-python",
   "name": "python",
   "nbconvert_exporter": "python",
   "pygments_lexer": "ipython3",
   "version": "3.10.2"
  }
 },
 "nbformat": 4,
 "nbformat_minor": 5
}
