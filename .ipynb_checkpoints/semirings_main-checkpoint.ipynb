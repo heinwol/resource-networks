{
 "cells": [
  {
   "cell_type": "code",
   "execution_count": 129,
   "id": "9dc00221",
   "metadata": {},
   "outputs": [],
   "source": [
    "import numpy as np\n",
    "import pandas as pd\n",
    "import sympy as sp\n",
    "import networkx as nx\n",
    "\n",
    "\n",
    "import functools\n",
    "from functools import reduce, partial\n",
    "from toolz import *\n",
    "from enum import Enum\n",
    "\n",
    "import itertools\n",
    "import more_itertools\n",
    "\n",
    "from itertools import product, starmap\n",
    "\n",
    "# from abc import *\n",
    "\n",
    "import plotly.graph_objs as go\n",
    "import plotly.express as px\n",
    "\n",
    "import matplotlib.pyplot as plt\n",
    "\n",
    "plt.rcParams[\"figure.figsize\"] = (10, 7)\n",
    "plt.rcParams[\"axes.grid\"] = True\n",
    "\n",
    "plt.rcParams[\"font.size\"] = 12\n",
    "\n",
    "import pydot\n",
    "from IPython.display import Image\n",
    "\n",
    "import operator\n",
    "\n",
    "from typing import Sequence, Callable, Tuple, List, Union\n",
    "\n",
    "\n",
    "\n",
    "inf = np.inf\n",
    "get_curried = curry(operator.getitem)\n",
    "lmap = compose(list, map)"
   ]
  },
  {
   "cell_type": "markdown",
   "id": "db7f9571",
   "metadata": {},
   "source": [
    "## Попытки полуколец в контексте ресурсных сетей"
   ]
  },
  {
   "cell_type": "code",
   "execution_count": 67,
   "id": "7fcd2e2f",
   "metadata": {},
   "outputs": [],
   "source": [
    "@curry\n",
    "def plot_functions(range_, f1, *fs):\n",
    "    fig, ax = plt.subplots()\n",
    "    x = np.linspace(range_[0], range_[1], 200)\n",
    "    for i, f in enumerate(itertools.chain([f1], fs)):\n",
    "        y = lmap(f, x)\n",
    "        ax.plot(x, y, label=f'function {i}')\n",
    "    ax.legend()\n",
    "\n",
    "@curry\n",
    "def nth_pow(f, n):\n",
    "    def inner(x):\n",
    "        for _ in range(n):\n",
    "            x = f(x)\n",
    "        return x\n",
    "    return inner"
   ]
  },
  {
   "cell_type": "code",
   "execution_count": 68,
   "id": "67a7142d",
   "metadata": {},
   "outputs": [],
   "source": [
    "add1, add2 = map(curry(operator.add), [1, 2])"
   ]
  },
  {
   "cell_type": "code",
   "execution_count": 69,
   "id": "0be51a10",
   "metadata": {},
   "outputs": [],
   "source": [
    "def make_resource_function(limitation, transition):\n",
    "    def inner(x):\n",
    "        if x > limitation:\n",
    "            return transition\n",
    "        else:\n",
    "            return transition/limitation * x\n",
    "    return inner\n",
    "\n",
    "addf = lambda f1, f2: lambda x: f1(x) + f2(x)"
   ]
  },
  {
   "cell_type": "code",
   "execution_count": 5,
   "id": "ef1544de",
   "metadata": {
    "scrolled": false
   },
   "outputs": [
    {
     "data": {
      "image/png": "[encoded data removed]",
      "text/plain": [
       "<Figure size 720x504 with 1 Axes>"
      ]
     },
     "metadata": {
      "needs_background": "light"
     },
     "output_type": "display_data"
    }
   ],
   "source": [
    "f1 = make_resource_function(5, 7)\n",
    "f2 = make_resource_function(3, 8)\n",
    "f3 = make_resource_function(8, 9)\n",
    "\n",
    "\n",
    "plot_here = plot_functions((0, 10))\n",
    "plot_here(f1, f2)\n",
    "\n",
    "\n",
    "# В композиции с собой в пределе получим константу\n",
    "# plot_here(nth_pow(f1, 200))\n",
    "\n",
    "\n",
    "# plot_functions((0, 10), compose(addf(f1, f2), f3), addf(compose(f1, f3), compose(f2, f3)))\n",
    "# Свойства дистрибутивности не выполняются:\n",
    "# plot_functions((0, 10), compose(f1, addf(f2, f3)), addf(compose(f1, f2), compose(f1, f3)))"
   ]
  },
  {
   "cell_type": "markdown",
   "id": "e99e381e",
   "metadata": {},
   "source": [
    "### Правильные структуры данных"
   ]
  },
  {
   "cell_type": "code",
   "execution_count": 123,
   "id": "24a75221",
   "metadata": {},
   "outputs": [],
   "source": [
    "class PiecewiseLinearFunction:\n",
    "    \n",
    "    # in this class linear functions will be denoted\n",
    "    LinearFunc = Tuple[float, float]\n",
    "    \n",
    "    Interval = Tuple[float, float]\n",
    "    \n",
    "    def __init__(self, x: List[float], f: List[LinearFunc]):\n",
    "        assert len(x) + 1 == len(f),\\\n",
    "            (\"Array sizes for constraining points (x) and \" +\n",
    "             \"linear functions (f) should satisfy `len(x) + 1 == len(f), \" +\n",
    "             f\"however len(x) == {len(x)}, len(f) == {len(f)}\")\n",
    "        self._x = x\n",
    "        self._f = f\n",
    "    \n",
    "    @property\n",
    "    def x(self): return self._x\n",
    "    @property\n",
    "    def f(self): return self._f\n",
    "    \n",
    "    @staticmethod\n",
    "    def _is_close(x1: float, x2: float) -> bool:\n",
    "        return abs(x1 - x2) < 1e-13\n",
    "    \n",
    "    @staticmethod\n",
    "    def _linear_funcs_are_close(f1: LinearFunc, f2: LinearFunc) -> bool:\n",
    "        return all(map(PiecewiseLinearFunction._is_close, f1, f2))\n",
    "    \n",
    "    def sanitize(self) -> 'PiecewiseLinearFunction':\n",
    "        \"\"\"\n",
    "        Sometimes during function composition or addition\n",
    "        we might get extra mesh points, like\n",
    "        `f = (2*x | x <= 3), (2*x | 3 < x)`\n",
    "        This function resolves it, thus f becomes simply\n",
    "        `f = 2*x`\n",
    "        \"\"\"\n",
    "        if any(starmap(PiecewiseLinearFunction._linear_funcs_are_close, \n",
    "                       sliding_window(2, self.f))):\n",
    "            x, f = [], [self.f[0]]\n",
    "            for i in range(len(self.x)):\n",
    "                if not PiecewiseLinearFunction._linear_funcs_are_close(f[-1], self.f[i+1]):\n",
    "                    x.append(self.x[i])\n",
    "                    f.append(self.f[i+1])\n",
    "            return PiecewiseLinearFunction(x, f)\n",
    "        else:\n",
    "            return self\n",
    "    \n",
    "    \n",
    "    @staticmethod\n",
    "    def _add_two(f1: LinearFunc, f2: LinearFunc):\n",
    "        return (f1[0] + f2[0], f1[1] + f2[1])\n",
    "    \n",
    "    \n",
    "    \n",
    "    def merge_funcs(self,\n",
    "            other: PiecewiseLinearFunction,\n",
    "            merge_two: Callable[[LinearFunc, LinearFunc], LinearFunc])\\\n",
    "            -> PiecewiseLinearFunction:\n",
    "        \"\"\"\n",
    "        res = merge_funcs(f1, f2, <op>) is similar to constructing \n",
    "        piecewise function, which mesh is sum of meshes of\n",
    "        both f1 and f2. On each subdomain res is equal to\n",
    "        `f1 <op> f2` on the according subdomains of f1 and f2\n",
    "        \"\"\"\n",
    "        x, f = [],  []\n",
    "        i = j = 0\n",
    "        while i < len(self.x) and j < len(other.x):\n",
    "            if PiecewiseLinearFunction._is_close(self.x[i], other.x[j]):\n",
    "                x.append(self.x[i])\n",
    "                f.append(merge_two(self.f[i], other.f[j]))\n",
    "                i += 1\n",
    "                j += 1                \n",
    "            elif self.x[i] < other.x[j]:\n",
    "                x.append(self.x[i])\n",
    "                f.append(merge_two(self.f[i], other.f[j]))\n",
    "                i += 1\n",
    "            elif self.x[i] > other.x[j]:\n",
    "                x.append(other.x[j])\n",
    "                f.append(merge_two(self.f[i], other.f[j]))\n",
    "                j += 1\n",
    "        while i < len(self.x):\n",
    "            x.append(self.x[i])\n",
    "            f.append(merge_two(self.f[i], other.f[j]))\n",
    "            i += 1\n",
    "        while j < len(other.x):\n",
    "            x.append(other.x[j])\n",
    "            f.append(merge_two(self.f[i], other.f[j]))\n",
    "            j += 1\n",
    "        f.append(merge_two(self.f[i], other.f[j]))\n",
    "        return PiecewiseLinearFunction(x, f).sanitize()\n",
    "    \n",
    "    def __add__(self, other: PiecewiseLinearFunction) -> PiecewiseLinearFunction:\n",
    "        return self.merge_funcs(other, PiecewiseLinearFunction._add_two)\n",
    "    \n",
    "    def find_index(self, x: float) -> int:\n",
    "        if len(self.x) == 0:\n",
    "            res = 0\n",
    "        elif x <= self.x[0]:\n",
    "            res = 0\n",
    "        elif self.x[-1] < x:\n",
    "            res = len(self.x) # x cannot be indexed like that, though f can\n",
    "        else:\n",
    "            # simple binary search, actually\n",
    "            l = 0\n",
    "            r = len(self.x) - 1\n",
    "            while r - l > 1:\n",
    "                p = l + (r - l)//2\n",
    "                if x <= self.x[p]:\n",
    "                    r = p\n",
    "                else:\n",
    "                    l = p\n",
    "            res = r\n",
    "        return res\n",
    "    \n",
    "    @staticmethod\n",
    "    def _inv_lin_if_possible(lin: LinearFunc) -> LinearFunc:\n",
    "        if PiecewiseLinearFunction._is_close(lin[0], 0):\n",
    "            raise ValueError(f\"Cannot inverse constant function {lin}\")\n",
    "        else:\n",
    "            return (1/lin[0], -lin[1]/lin[0])\n",
    "    \n",
    "    @staticmethod\n",
    "    @curry\n",
    "    def _apply_lin(lin: LinearFunc, x: float) -> float:\n",
    "        if PiecewiseLinearFunction._is_close(lin[0], 0):\n",
    "            return lin[1]\n",
    "        else:\n",
    "            return lin[0]*x + lin[1]\n",
    "    \n",
    "    @staticmethod\n",
    "    def _interval_image(lin: LinearFunc, ival: Interval) -> Interval:\n",
    "        # we assume `lin[0] != 0` \n",
    "        a, b = map(PiecewiseLinearFunction._apply_lin(lin), ival)\n",
    "        return (a, b) if a < b else (b, a)\n",
    "    \n",
    "    def _points_and_idx_inside_interval(self, ival: Interval) -> Tuple[List[float], int]:\n",
    "        ia, ib = map(self.find_index, ival)\n",
    "        \n",
    "        if ia == len(self.x):\n",
    "            return ([], ia)\n",
    "        elif ib == len(self.x):\n",
    "            ia_corr = ia if not PiecewiseLinearFunction._is_close(ival[0], self.x[ia])\\\n",
    "                        else ia + 1\n",
    "            ib_corr = ib\n",
    "            return (self.x[ia_corr:ib_corr], ia_corr)\n",
    "        else:\n",
    "            ia_corr = ia if not PiecewiseLinearFunction._is_close(ival[0], self.x[ia])\\\n",
    "                        else ia + 1\n",
    "            ib_corr = ib if not PiecewiseLinearFunction._is_close(ival[1], self.x[ib])\\\n",
    "                        else ib - 1\n",
    "            if ib_corr == -1: \n",
    "                return ([], ia_corr)\n",
    "            return (self.x[ia_corr:ib_corr], ia_corr)\n",
    "    \n",
    "    @staticmethod\n",
    "    def _inverse_points(lin: LinearFunc, points: List[float]) -> List[float]:\n",
    "        lin_inv = PiecewiseLinearFunction._inv_lin_if_possible(lin)\n",
    "        if lin[0] > 0:\n",
    "            return lmap(PiecewiseLinearFunction._apply_lin(lin_inv), points)\n",
    "        else:\n",
    "            # since we don't have efficient inversed map, making a plain loop here:\n",
    "            res = [None]*len(points)\n",
    "            for i, p in enumerate(points):\n",
    "                res[- 1 - i] = PiecewiseLinearFunction._apply_lin(lin_inv, p)\n",
    "            return res\n",
    "#         return (reversed if lin[0] < 0 else identity)(lmap(PiecewiseLinearFunction._apply_lin(lin_inv), points))\n",
    "\n",
    "    def partition_domain(self, f2: LinearFunc, ival: Interval)\\\n",
    "        -> Tuple[List[float], int]:\n",
    "        \"\"\"\n",
    "        Provided `f2` has domain `ival` and we are to calculate `compose(f1, f2)`,\n",
    "        returns a proper partition for `ival` (makes a corresponding mesh from it).\n",
    "        !!! Beware, result's points don't contain `ival[0]` and `ival[1]` !!! \n",
    "        \"\"\"\n",
    "        #in case of constant function `f2` we're not extending the domain:\n",
    "        if PiecewiseLinearFunction._is_close(f2[0], 0):\n",
    "            idx = self.find_index(PiecewiseLinearFunction._apply_lin(f2, ival[1]))\n",
    "            return ([], idx)\n",
    "        else:\n",
    "            im = PiecewiseLinearFunction._interval_image(f2, ival)\n",
    "            points, idx = self._points_and_idx_inside_interval(im)\n",
    "            inv_points = PiecewiseLinearFunction._inverse_points(f2, points)\n",
    "            return (inv_points, idx)\n",
    "    \n",
    "    @staticmethod\n",
    "    def _compose_lin(f1: LinearFunc, f2: LinearFunc) -> LinearFunc:\n",
    "        return (f1[0]*f2[0], f1[0]*f2[1] + f1[1])\n",
    "    \n",
    "    @staticmethod\n",
    "    def compose(f1: PiecewiseLinearFunction, f2: PiecewiseLinearFunction)\\\n",
    "            -> PiecewiseLinearFunction:\n",
    "        \n",
    "        def process(rhs_lin_func, ival):\n",
    "            new_points, f_idx = f1.partition_domain(rhs_lin_func, ival)\n",
    "            if PiecewiseLinearFunction._is_close(rhs_lin_func[0], 0) or rhs_lin_func[0] > 0:\n",
    "                idx = f_idx\n",
    "                new_idx = lambda old: old + 1\n",
    "            else:\n",
    "                idx = len(new_points) + f_idx\n",
    "                new_idx = lambda old: old - 1\n",
    "                \n",
    "            for p in new_points:\n",
    "                f.append(PiecewiseLinearFunction._compose_lin(f1.f[idx], rhs_lin_func))\n",
    "                idx = new_idx(idx)\n",
    "                x.append(p)\n",
    "            f.append(PiecewiseLinearFunction._compose_lin(f1.f[idx], rhs_lin_func))\n",
    "        \n",
    "        x, f = [], []\n",
    "        if len(f2.x) == 0:\n",
    "            x = f1.x\n",
    "            f = lmap(lambda it: PiecewiseLinearFunction._compose_lin(it, f2.f[0]),\n",
    "                     f1.f)\n",
    "        else:            \n",
    "            # case (-inf, f2.x[0]):\n",
    "            process(f2.f[0], (-inf, f2.x[0]))\n",
    "            x.append(f2.x[0])\n",
    "            for i in range(len(f2.x) - 1):\n",
    "                process(f2.f[i+1], (f2.x[i], f2.x[i+1]))\n",
    "                x.append(f2.x[i+1])\n",
    "            #case (f2.x[-1], +inf):\n",
    "            process(f2.f[-1], (f2.x[-1], +inf))\n",
    "        \n",
    "        return PiecewiseLinearFunction(x, f).sanitize()\n",
    "        \n",
    "    \n",
    "    def __call__(self, x: float):\n",
    "        k, b = self.f[self.find_index(x)]\n",
    "        return k*x + b\n",
    "    \n",
    "    def to_str(self):\n",
    "        def conv_f(f):\n",
    "            if PiecewiseLinearFunction._is_close(f[0], 0):\n",
    "                return '{:.6g}'.format(f[1])\n",
    "            elif PiecewiseLinearFunction._is_close(f[1], 0):\n",
    "                return '{:.6g}*x'.format(f[0])\n",
    "            else:\n",
    "                return '{:.6g}*x + {:.6g}'.format(f[0], f[1])\n",
    "        def conv_x(x):\n",
    "            return '{:.6g}'.format(x)\n",
    "        \n",
    "#         \"(2*x + 3 | 0 < x <= 1), (2 | 1 < x <= 3)\"\n",
    "        \n",
    "        if len(self.x) == 0:\n",
    "            return conv_f(self.f[0])\n",
    "        else:\n",
    "            s0 =  f'({conv_f(self.f[0])} | x <= {conv_x(self.x[0])})'\n",
    "            ls = (f'({conv_f(self.f[i])} | {conv_x(self.x[i-1])} < x <= {conv_x(self.x[i])})'\n",
    "                      for i in range(1, len(self.x)))\n",
    "            sn =  f'({conv_f(self.f[-1])} | {conv_x(self.x[-1])} < x)'\n",
    "            \n",
    "            \n",
    "        return ', '.join(itertools.chain([s0], ls, [sn]))\n",
    "    \n",
    "    def __repr__(self):\n",
    "        return 'Piecewise linear: ' +  self.to_str()\n",
    "\n",
    "    \n",
    "def resource_piecewise(limitation, transition):\n",
    "    x = [0, limitation]\n",
    "    f = [(0, 0), (transition/limitation, 0), (0, transition)]\n",
    "    return PiecewiseLinearFunction(x, f)\n",
    "\n",
    "    \n",
    "pw_compose = PiecewiseLinearFunction.compose\n"
   ]
  },
  {
   "cell_type": "code",
   "execution_count": 30,
   "id": "3ae0f48c",
   "metadata": {},
   "outputs": [
    {
     "data": {
      "text/plain": [
       "Piecewise linear: (0 | x <= 0), (6.66667*x | 0 < x <= 0.6), (4 | 0.6 < x)"
      ]
     },
     "execution_count": 30,
     "metadata": {},
     "output_type": "execute_result"
    }
   ],
   "source": [
    "p1, p2 = resource_piecewise(1, 4), resource_piecewise(3, 5)\n",
    "comp = pw_compose(p1, p2)\n",
    "comp"
   ]
  },
  {
   "cell_type": "code",
   "execution_count": 31,
   "id": "66463eb0",
   "metadata": {},
   "outputs": [
    {
     "name": "stdout",
     "output_type": "stream",
     "text": [
      "Piecewise linear: (2 | x <= 0), (-1*x + 2 | 0 < x <= 2), (0 | 2 < x)\n"
     ]
    },
    {
     "data": {
      "image/png": "[encoded data removed]",
      "text/plain": [
       "<Figure size 720x504 with 1 Axes>"
      ]
     },
     "metadata": {
      "needs_background": "light"
     },
     "output_type": "display_data"
    }
   ],
   "source": [
    "plot_here = plot_functions((-4, 7))\n",
    "\n",
    "# f1_ = PiecewiseLinearFunction([1, 5, 6], [(1, 0), (3, 5), (0, 1), (-2, 4)])\n",
    "# f2_ = PiecewiseLinearFunction([2, 5], [(4, 1), (-2, 8), (3, 0)])\n",
    "\n",
    "# f1_ = PiecewiseLinearFunction([3, 4], [(1, 0), (2, 0), (3, 0)])\n",
    "# f2_ = PiecewiseLinearFunction([2], [(4, 10), (1, 0)])\n",
    "\n",
    "f1_ = PiecewiseLinearFunction([-2, 4], [(0, 0), (1, 2), (0, 0)])\n",
    "f2_ = PiecewiseLinearFunction([0], [(0, 0), (-1, 0)])\n",
    "\n",
    "comp12 = pw_compose(f1_, f2_)\n",
    "print(comp12)\n",
    "plot_here(comp12, compose(f1_, f2_))"
   ]
  },
  {
   "cell_type": "markdown",
   "id": "d1359351",
   "metadata": {},
   "source": [
    "#### Собственно, алгебра и матрицы:"
   ]
  },
  {
   "cell_type": "code",
   "execution_count": 106,
   "id": "9262dbf7",
   "metadata": {},
   "outputs": [],
   "source": [
    "class PLF_AlgebraElement:\n",
    "    \n",
    "    Zero : 'PLF_AlgebraElement'\n",
    "    One :  'PLF_AlgebraElement'\n",
    "    \n",
    "    def __init__(self, pwf: PiecewiseLinearFunction):\n",
    "        self.pwf = pwf\n",
    "    \n",
    "    def __add__(self, other):\n",
    "        return PLF_AlgebraElement(self.pwf + other.pwf)\n",
    "    def __mul__(self, other):\n",
    "        return PLF_AlgebraElement(PiecewiseLinearFunction.compose(self.pwf, other.pwf))\n",
    "    def __call__(self, x):\n",
    "        return self.pwf(x)\n",
    "    \n",
    "    def __repr__(self):\n",
    "        return 'PLF_Alg: <' +  self.pwf.to_str() + '>'\n",
    "\n",
    "PLF_AlgebraElement.Zero = PLF_AlgebraElement(PiecewiseLinearFunction([], [(0, 0)]))\n",
    "PLF_AlgebraElement.One  = PLF_AlgebraElement(PiecewiseLinearFunction([], [(1, 0)]))\n",
    "\n",
    "resource_alg = compose(PLF_AlgebraElement, resource_piecewise)"
   ]
  },
  {
   "cell_type": "code",
   "execution_count": 107,
   "id": "4cd23f98",
   "metadata": {},
   "outputs": [],
   "source": [
    "class ApplicativeMatrix:\n",
    "    \n",
    "    def __init__(self, matr: np.ndarray):\n",
    "        self.matr = matr if isinstance(matr, np.ndarray) else np.array(matr, dtype=object) \n",
    "        self.type = None if self.matr.shape == (0, 0) else type(self.matr[0,0])\n",
    "        \n",
    "        def types_similar():\n",
    "            for (i, j), x in np.ndenumerate(self.matr):\n",
    "                yield(type(self.matr[i,j]) is self.type)\n",
    "\n",
    "        assert all(types_similar()), \\\n",
    "            'Matrix elements should be of homogeneous type'\n",
    "    \n",
    "    \n",
    "    def __matmul__(self, other: 'ApplicativeMatrix'):\n",
    "        return ApplicativeMatrix(self.matr@other.matr)\n",
    "    \n",
    "    def __pow__(self, n):\n",
    "        if n < 0:\n",
    "            raise ValueError('Applicative matrix cannot be inversed')\n",
    "        elif n == 0:\n",
    "            if self.type is PLF_AlgebraElement:\n",
    "                m = np.full(self.matr.shape, PLF_AlgebraElement.Zero, dtype=object)\n",
    "                np.fill_diagonal(m, PLF_AlgebraElement.One)\n",
    "                return m\n",
    "            else:\n",
    "                ApplicativeMatrix(np.linalg.matrix_power(self.matr, n))\n",
    "        else:\n",
    "            return ApplicativeMatrix(np.linalg.matrix_power(self.matr, n))\n",
    "    \n",
    "    def __call__(self, x: Union[List[float], np.ndarray]):\n",
    "        if len(x) != self.matr.shape[1]:\n",
    "            raise ValueError('Dimensions must agree')\n",
    "        res = np.full((self.matr.shape[0],), None, dtype=object)\n",
    "        for i in range(self.matr.shape[0]):\n",
    "            res[i] = reduce(operator.add, map(lambda f, x: f(x), self.matr[i], x))\n",
    "        return res\n",
    "    \n",
    "    def __setitem__(self, idx, val):\n",
    "        self.matr[idx] = val\n",
    "    \n",
    "    def __repr__(self):\n",
    "        return 'ApplicativeMatrix: ' +  repr(self.matr)  "
   ]
  },
  {
   "cell_type": "code",
   "execution_count": 131,
   "id": "9ebd90a2",
   "metadata": {},
   "outputs": [],
   "source": [
    "class ResourceDiGraph:\n",
    "    \n",
    "    Node = int\n",
    "    \n",
    "    \n",
    "    def __init__(self, nodes_resourse_initializer):\n",
    "        pass\n",
    "    \n",
    "    def add_resource_outedges_of_node(\n",
    "            node: Node,\n",
    "            edge_capacities: Sequence[Tuple[Node, float]]):\n",
    "        integral_capacity = sum(map(second, edge_capacities))\n",
    "        for v, cap in edge_capacities:\n",
    "            G.add_edge(node, v, resource_func=resource_alg())"
   ]
  },
  {
   "cell_type": "code",
   "execution_count": null,
   "id": "d8790717",
   "metadata": {},
   "outputs": [],
   "source": [
    "#(transition, limitation) where (transition < limitation)\n",
    "G = ResourceDiGraph()\n",
    "G.add_resource_outedges_of_node(0, [(1, 2)])"
   ]
  },
  {
   "cell_type": "code",
   "execution_count": 128,
   "id": "21e0b496",
   "metadata": {},
   "outputs": [],
   "source": [
    "def weights_to_labels(G, prop='weight'):\n",
    "    G_ = G.copy()\n",
    "    for (u, v, data) in G_.edges(data=True):\n",
    "        data['label'] = data.get(prop,'')\n",
    "    return G_\n",
    "\n",
    "def display_graph(G, prop_show='weight'):\n",
    "    display(Image(nx.nx_pydot.to_pydot(weights_to_labels(G, prop_show)).create_png()))\n",
    "    \n",
    "def random_weigthed_graph(size=6, density=0.3, seed=None):\n",
    "    seed = seed if seed is not None else np.random.randint(10*15)\n",
    "    G = nx.fast_gnp_random_graph(6, 0.3, seed=seed, directed=True)\n",
    "    for (u, v, data) in G.edges(data=True):\n",
    "        G.edges[u,v]['weight'] = np.random.randint(1,10)\n",
    "    return G\n",
    "\n",
    "# G = random_weigthed_graph()\n",
    "# display_graph(G)\n",
    "# nx.adjacency_matrix(G).toarray()"
   ]
  },
  {
   "cell_type": "code",
   "execution_count": 139,
   "id": "dafd9fae",
   "metadata": {},
   "outputs": [
    {
     "ename": "KeyError",
     "evalue": "(0, 1)",
     "output_type": "error",
     "traceback": [
      "\u001b[1;31m---------------------------------------------------------------------------\u001b[0m",
      "\u001b[1;31mKeyError\u001b[0m                                  Traceback (most recent call last)",
      "\u001b[1;32m<ipython-input-139-03f3ca33cdb9>\u001b[0m in \u001b[0;36m<module>\u001b[1;34m\u001b[0m\n\u001b[0;32m      1\u001b[0m \u001b[0mG\u001b[0m \u001b[1;33m=\u001b[0m \u001b[0mnx\u001b[0m\u001b[1;33m.\u001b[0m\u001b[0mDiGraph\u001b[0m\u001b[1;33m(\u001b[0m\u001b[1;33m)\u001b[0m\u001b[1;33m\u001b[0m\u001b[1;33m\u001b[0m\u001b[0m\n\u001b[0;32m      2\u001b[0m \u001b[0mG\u001b[0m\u001b[1;33m.\u001b[0m\u001b[0madd_edge\u001b[0m\u001b[1;33m(\u001b[0m\u001b[1;36m0\u001b[0m\u001b[1;33m,\u001b[0m \u001b[1;36m1\u001b[0m\u001b[1;33m,\u001b[0m \u001b[0mweight\u001b[0m\u001b[1;33m=\u001b[0m\u001b[1;36m2\u001b[0m\u001b[1;33m)\u001b[0m\u001b[1;33m\u001b[0m\u001b[1;33m\u001b[0m\u001b[0m\n\u001b[1;32m----> 3\u001b[1;33m \u001b[0mG\u001b[0m\u001b[1;33m[\u001b[0m\u001b[1;36m0\u001b[0m\u001b[1;33m,\u001b[0m \u001b[1;36m1\u001b[0m\u001b[1;33m]\u001b[0m\u001b[1;33m\u001b[0m\u001b[1;33m\u001b[0m\u001b[0m\n\u001b[0m",
      "\u001b[1;32mc:\\python39\\lib\\site-packages\\networkx\\classes\\graph.py\u001b[0m in \u001b[0;36m__getitem__\u001b[1;34m(self, n)\u001b[0m\n\u001b[0;32m    463\u001b[0m         \u001b[0mAtlasView\u001b[0m\u001b[1;33m(\u001b[0m\u001b[1;33m{\u001b[0m\u001b[1;36m1\u001b[0m\u001b[1;33m:\u001b[0m \u001b[1;33m{\u001b[0m\u001b[1;33m}\u001b[0m\u001b[1;33m}\u001b[0m\u001b[1;33m)\u001b[0m\u001b[1;33m\u001b[0m\u001b[1;33m\u001b[0m\u001b[0m\n\u001b[0;32m    464\u001b[0m         \"\"\"\n\u001b[1;32m--> 465\u001b[1;33m         \u001b[1;32mreturn\u001b[0m \u001b[0mself\u001b[0m\u001b[1;33m.\u001b[0m\u001b[0madj\u001b[0m\u001b[1;33m[\u001b[0m\u001b[0mn\u001b[0m\u001b[1;33m]\u001b[0m\u001b[1;33m\u001b[0m\u001b[1;33m\u001b[0m\u001b[0m\n\u001b[0m\u001b[0;32m    466\u001b[0m \u001b[1;33m\u001b[0m\u001b[0m\n\u001b[0;32m    467\u001b[0m     \u001b[1;32mdef\u001b[0m \u001b[0madd_node\u001b[0m\u001b[1;33m(\u001b[0m\u001b[0mself\u001b[0m\u001b[1;33m,\u001b[0m \u001b[0mnode_for_adding\u001b[0m\u001b[1;33m,\u001b[0m \u001b[1;33m**\u001b[0m\u001b[0mattr\u001b[0m\u001b[1;33m)\u001b[0m\u001b[1;33m:\u001b[0m\u001b[1;33m\u001b[0m\u001b[1;33m\u001b[0m\u001b[0m\n",
      "\u001b[1;32mc:\\python39\\lib\\site-packages\\networkx\\classes\\coreviews.py\u001b[0m in \u001b[0;36m__getitem__\u001b[1;34m(self, name)\u001b[0m\n\u001b[0;32m     77\u001b[0m \u001b[1;33m\u001b[0m\u001b[0m\n\u001b[0;32m     78\u001b[0m     \u001b[1;32mdef\u001b[0m \u001b[0m__getitem__\u001b[0m\u001b[1;33m(\u001b[0m\u001b[0mself\u001b[0m\u001b[1;33m,\u001b[0m \u001b[0mname\u001b[0m\u001b[1;33m)\u001b[0m\u001b[1;33m:\u001b[0m\u001b[1;33m\u001b[0m\u001b[1;33m\u001b[0m\u001b[0m\n\u001b[1;32m---> 79\u001b[1;33m         \u001b[1;32mreturn\u001b[0m \u001b[0mAtlasView\u001b[0m\u001b[1;33m(\u001b[0m\u001b[0mself\u001b[0m\u001b[1;33m.\u001b[0m\u001b[0m_atlas\u001b[0m\u001b[1;33m[\u001b[0m\u001b[0mname\u001b[0m\u001b[1;33m]\u001b[0m\u001b[1;33m)\u001b[0m\u001b[1;33m\u001b[0m\u001b[1;33m\u001b[0m\u001b[0m\n\u001b[0m\u001b[0;32m     80\u001b[0m \u001b[1;33m\u001b[0m\u001b[0m\n\u001b[0;32m     81\u001b[0m     \u001b[1;32mdef\u001b[0m \u001b[0mcopy\u001b[0m\u001b[1;33m(\u001b[0m\u001b[0mself\u001b[0m\u001b[1;33m)\u001b[0m\u001b[1;33m:\u001b[0m\u001b[1;33m\u001b[0m\u001b[1;33m\u001b[0m\u001b[0m\n",
      "\u001b[1;31mKeyError\u001b[0m: (0, 1)"
     ]
    }
   ],
   "source": [
    "G = nx.DiGraph()\n",
    "G.add_edge(0, 1, weight=2)\n",
    "G[0, 1]"
   ]
  },
  {
   "cell_type": "code",
   "execution_count": 108,
   "id": "be9c27b8",
   "metadata": {},
   "outputs": [
    {
     "data": {
      "text/plain": [
       "array([[0, 2],\n",
       "       [2, 0]], dtype=object)"
      ]
     },
     "execution_count": 108,
     "metadata": {},
     "output_type": "execute_result"
    }
   ],
   "source": [
    "B = np.array([[0, 2],\n",
    "              [2, 0]])\n",
    "# np.linalg.matrix_power(B, 2)\n",
    "# np.apply_over_axes(lambda x: x**2, B, [])\n",
    "np.array(B, dtype=object)"
   ]
  },
  {
   "cell_type": "code",
   "execution_count": 117,
   "id": "128d2206",
   "metadata": {},
   "outputs": [
    {
     "data": {
      "text/plain": [
       "ApplicativeMatrix: array([[PLF_Alg: <0>, PLF_Alg: <0>, PLF_Alg: <0>],\n",
       "       [PLF_Alg: <0>, PLF_Alg: <0>, PLF_Alg: <0>],\n",
       "       [PLF_Alg: <0>, PLF_Alg: <0>, PLF_Alg: <0>]], dtype=object)"
      ]
     },
     "execution_count": 117,
     "metadata": {},
     "output_type": "execute_result"
    }
   ],
   "source": [
    "A = ApplicativeMatrix(np.full((3,3), PLF_AlgebraElement.Zero, dtype=object))\n",
    "A\n",
    "\n",
    "# A([1, 1, 1])"
   ]
  },
  {
   "cell_type": "code",
   "execution_count": 116,
   "id": "9a44ddaa",
   "metadata": {},
   "outputs": [],
   "source": [
    "A[0,0] = resource_alg(5, 3)\n",
    "# np.linalg.matrix_power(A, 2)\n",
    "# A([100,2,1])\n",
    "# A"
   ]
  },
  {
   "cell_type": "code",
   "execution_count": 17,
   "id": "6aa21b4b",
   "metadata": {},
   "outputs": [
    {
     "ename": "NameError",
     "evalue": "name 'f' is not defined",
     "output_type": "error",
     "traceback": [
      "\u001b[1;31m---------------------------------------------------------------------------\u001b[0m",
      "\u001b[1;31mNameError\u001b[0m                                 Traceback (most recent call last)",
      "\u001b[1;32m<ipython-input-17-97a38c1bb4ed>\u001b[0m in \u001b[0;36m<module>\u001b[1;34m\u001b[0m\n\u001b[0;32m      1\u001b[0m \u001b[1;32mfrom\u001b[0m \u001b[0mipywidgets\u001b[0m \u001b[1;32mimport\u001b[0m \u001b[0minteract\u001b[0m\u001b[1;33m,\u001b[0m \u001b[0mwidgets\u001b[0m\u001b[1;33m\u001b[0m\u001b[1;33m\u001b[0m\u001b[0m\n\u001b[0;32m      2\u001b[0m \u001b[1;33m\u001b[0m\u001b[0m\n\u001b[1;32m----> 3\u001b[1;33m \u001b[0minteract\u001b[0m\u001b[1;33m(\u001b[0m\u001b[0mf\u001b[0m\u001b[1;33m,\u001b[0m \u001b[0mMedian_Size\u001b[0m\u001b[1;33m=\u001b[0m\u001b[0mwidgets\u001b[0m\u001b[1;33m.\u001b[0m\u001b[0mIntSlider\u001b[0m\u001b[1;33m(\u001b[0m\u001b[0mmin\u001b[0m\u001b[1;33m=\u001b[0m\u001b[1;36m1\u001b[0m\u001b[1;33m,\u001b[0m\u001b[0mmax\u001b[0m\u001b[1;33m=\u001b[0m\u001b[1;36m21\u001b[0m\u001b[1;33m,\u001b[0m\u001b[0mstep\u001b[0m\u001b[1;33m=\u001b[0m\u001b[1;36m2\u001b[0m\u001b[1;33m,\u001b[0m\u001b[0mvalue\u001b[0m\u001b[1;33m=\u001b[0m\u001b[1;36m1\u001b[0m\u001b[1;33m)\u001b[0m\u001b[1;33m)\u001b[0m\u001b[1;33m\u001b[0m\u001b[1;33m\u001b[0m\u001b[0m\n\u001b[0m",
      "\u001b[1;31mNameError\u001b[0m: name 'f' is not defined"
     ]
    }
   ],
   "source": [
    "from ipywidgets import interact, widgets\n",
    "\n",
    "interact(f, Median_Size=widgets.IntSlider(min=1,max=21,step=2,value=1)) "
   ]
  },
  {
   "cell_type": "code",
   "execution_count": null,
   "id": "cbe00fd4",
   "metadata": {},
   "outputs": [],
   "source": [
    "\n",
    "\n",
    "\n",
    "\n",
    "\n",
    "\n",
    "\n",
    "\n",
    "\n",
    "\n",
    "\n",
    "\n",
    "\n",
    "\n"
   ]
  }
 ],
 "metadata": {
  "kernelspec": {
   "display_name": "Python 3",
   "language": "python",
   "name": "python3"
  },
  "language_info": {
   "codemirror_mode": {
    "name": "ipython",
    "version": 3
   },
   "file_extension": ".py",
   "mimetype": "text/x-python",
   "name": "python",
   "nbconvert_exporter": "python",
   "pygments_lexer": "ipython3",
   "version": "3.9.6"
  }
 },
 "nbformat": 4,
 "nbformat_minor": 5
}
